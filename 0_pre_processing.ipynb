{
 "cells": [
  {
   "cell_type": "code",
   "execution_count": 1,
   "metadata": {},
   "outputs": [],
   "source": [
    "import pandas as pd\n",
    "import numpy as np"
   ]
  },
  {
   "cell_type": "code",
   "execution_count": 2,
   "metadata": {
    "scrolled": true
   },
   "outputs": [
    {
     "data": {
      "text/html": [
       "<div>\n",
       "<style scoped>\n",
       "    .dataframe tbody tr th:only-of-type {\n",
       "        vertical-align: middle;\n",
       "    }\n",
       "\n",
       "    .dataframe tbody tr th {\n",
       "        vertical-align: top;\n",
       "    }\n",
       "\n",
       "    .dataframe thead th {\n",
       "        text-align: right;\n",
       "    }\n",
       "</style>\n",
       "<table border=\"1\" class=\"dataframe\">\n",
       "  <thead>\n",
       "    <tr style=\"text-align: right;\">\n",
       "      <th></th>\n",
       "      <th>male</th>\n",
       "      <th>age</th>\n",
       "      <th>education</th>\n",
       "      <th>currentSmoker</th>\n",
       "      <th>cigsPerDay</th>\n",
       "      <th>BPMeds</th>\n",
       "      <th>prevalentStroke</th>\n",
       "      <th>prevalentHyp</th>\n",
       "      <th>diabetes</th>\n",
       "      <th>totChol</th>\n",
       "      <th>sysBP</th>\n",
       "      <th>diaBP</th>\n",
       "      <th>BMI</th>\n",
       "      <th>heartRate</th>\n",
       "      <th>glucose</th>\n",
       "      <th>TenYearCHD</th>\n",
       "    </tr>\n",
       "  </thead>\n",
       "  <tbody>\n",
       "    <tr>\n",
       "      <th>count</th>\n",
       "      <td>3656.0</td>\n",
       "      <td>3656.0</td>\n",
       "      <td>3656.0</td>\n",
       "      <td>3656.0</td>\n",
       "      <td>3656.0</td>\n",
       "      <td>3656.0</td>\n",
       "      <td>3656.0</td>\n",
       "      <td>3656.0</td>\n",
       "      <td>3656.0</td>\n",
       "      <td>3656.0</td>\n",
       "      <td>3656.0</td>\n",
       "      <td>3656.0</td>\n",
       "      <td>3656.00</td>\n",
       "      <td>3656.0</td>\n",
       "      <td>3656.0</td>\n",
       "      <td>3656.0</td>\n",
       "    </tr>\n",
       "    <tr>\n",
       "      <th>min</th>\n",
       "      <td>0.0</td>\n",
       "      <td>32.0</td>\n",
       "      <td>1.0</td>\n",
       "      <td>0.0</td>\n",
       "      <td>0.0</td>\n",
       "      <td>0.0</td>\n",
       "      <td>0.0</td>\n",
       "      <td>0.0</td>\n",
       "      <td>0.0</td>\n",
       "      <td>113.0</td>\n",
       "      <td>83.5</td>\n",
       "      <td>48.0</td>\n",
       "      <td>15.54</td>\n",
       "      <td>44.0</td>\n",
       "      <td>40.0</td>\n",
       "      <td>0.0</td>\n",
       "    </tr>\n",
       "    <tr>\n",
       "      <th>max</th>\n",
       "      <td>1.0</td>\n",
       "      <td>70.0</td>\n",
       "      <td>4.0</td>\n",
       "      <td>1.0</td>\n",
       "      <td>70.0</td>\n",
       "      <td>1.0</td>\n",
       "      <td>1.0</td>\n",
       "      <td>1.0</td>\n",
       "      <td>1.0</td>\n",
       "      <td>600.0</td>\n",
       "      <td>295.0</td>\n",
       "      <td>142.5</td>\n",
       "      <td>56.80</td>\n",
       "      <td>143.0</td>\n",
       "      <td>394.0</td>\n",
       "      <td>1.0</td>\n",
       "    </tr>\n",
       "  </tbody>\n",
       "</table>\n",
       "</div>"
      ],
      "text/plain": [
       "         male     age  education  currentSmoker  cigsPerDay  BPMeds  \\\n",
       "count  3656.0  3656.0     3656.0         3656.0      3656.0  3656.0   \n",
       "min       0.0    32.0        1.0            0.0         0.0     0.0   \n",
       "max       1.0    70.0        4.0            1.0        70.0     1.0   \n",
       "\n",
       "       prevalentStroke  prevalentHyp  diabetes  totChol   sysBP   diaBP  \\\n",
       "count           3656.0        3656.0    3656.0   3656.0  3656.0  3656.0   \n",
       "min                0.0           0.0       0.0    113.0    83.5    48.0   \n",
       "max                1.0           1.0       1.0    600.0   295.0   142.5   \n",
       "\n",
       "           BMI  heartRate  glucose  TenYearCHD  \n",
       "count  3656.00     3656.0   3656.0      3656.0  \n",
       "min      15.54       44.0     40.0         0.0  \n",
       "max      56.80      143.0    394.0         1.0  "
      ]
     },
     "metadata": {},
     "output_type": "display_data"
    },
    {
     "data": {
      "text/html": [
       "<div>\n",
       "<style scoped>\n",
       "    .dataframe tbody tr th:only-of-type {\n",
       "        vertical-align: middle;\n",
       "    }\n",
       "\n",
       "    .dataframe tbody tr th {\n",
       "        vertical-align: top;\n",
       "    }\n",
       "\n",
       "    .dataframe thead th {\n",
       "        text-align: right;\n",
       "    }\n",
       "</style>\n",
       "<table border=\"1\" class=\"dataframe\">\n",
       "  <thead>\n",
       "    <tr style=\"text-align: right;\">\n",
       "      <th></th>\n",
       "      <th>male</th>\n",
       "      <th>age</th>\n",
       "      <th>education</th>\n",
       "      <th>currentSmoker</th>\n",
       "      <th>cigsPerDay</th>\n",
       "      <th>BPMeds</th>\n",
       "      <th>prevalentStroke</th>\n",
       "      <th>prevalentHyp</th>\n",
       "      <th>diabetes</th>\n",
       "      <th>totChol</th>\n",
       "      <th>sysBP</th>\n",
       "      <th>diaBP</th>\n",
       "      <th>BMI</th>\n",
       "      <th>heartRate</th>\n",
       "      <th>glucose</th>\n",
       "      <th>TenYearCHD</th>\n",
       "    </tr>\n",
       "  </thead>\n",
       "  <tbody>\n",
       "    <tr>\n",
       "      <th>0</th>\n",
       "      <td>2</td>\n",
       "      <td>39</td>\n",
       "      <td>4</td>\n",
       "      <td>2</td>\n",
       "      <td>33</td>\n",
       "      <td>2</td>\n",
       "      <td>2</td>\n",
       "      <td>2</td>\n",
       "      <td>2</td>\n",
       "      <td>241</td>\n",
       "      <td>231</td>\n",
       "      <td>142</td>\n",
       "      <td>1297</td>\n",
       "      <td>72</td>\n",
       "      <td>138</td>\n",
       "      <td>2</td>\n",
       "    </tr>\n",
       "  </tbody>\n",
       "</table>\n",
       "</div>"
      ],
      "text/plain": [
       "   male  age  education  currentSmoker  cigsPerDay  BPMeds  prevalentStroke  \\\n",
       "0     2   39          4              2          33       2                2   \n",
       "\n",
       "   prevalentHyp  diabetes  totChol  sysBP  diaBP   BMI  heartRate  glucose  \\\n",
       "0             2         2      241    231    142  1297         72      138   \n",
       "\n",
       "   TenYearCHD  \n",
       "0           2  "
      ]
     },
     "metadata": {},
     "output_type": "display_data"
    }
   ],
   "source": [
    "df = pd.read_csv(\"data/heart.csv\")\n",
    "df.dropna(inplace=True)\n",
    "display(df.describe().iloc[[0,3,7]])\n",
    "display(pd.DataFrame.from_dict(dict(zip(df.columns.tolist(), [[df[x].nunique()] for x in df.columns.tolist()]))))\n",
    "df.to_csv (r'data/heart.csv', index = False, header=True)"
   ]
  },
  {
   "cell_type": "code",
   "execution_count": 3,
   "metadata": {},
   "outputs": [],
   "source": [
    "import pandas_profiling\n",
    "from pandas_profiling import ProfileReport"
   ]
  },
  {
   "cell_type": "code",
   "execution_count": 4,
   "metadata": {
    "scrolled": true
   },
   "outputs": [
    {
     "data": {
      "application/vnd.jupyter.widget-view+json": {
       "model_id": "4129384a219b4399ad90ad9942d46b7b",
       "version_major": 2,
       "version_minor": 0
      },
      "text/plain": [
       "Summarize dataset:   0%|          | 0/30 [00:00<?, ?it/s]"
      ]
     },
     "metadata": {},
     "output_type": "display_data"
    },
    {
     "data": {
      "application/vnd.jupyter.widget-view+json": {
       "model_id": "2ba716798a884321873130ee46e35b7e",
       "version_major": 2,
       "version_minor": 0
      },
      "text/plain": [
       "Generate report structure:   0%|          | 0/1 [00:00<?, ?it/s]"
      ]
     },
     "metadata": {},
     "output_type": "display_data"
    },
    {
     "data": {
      "application/vnd.jupyter.widget-view+json": {
       "model_id": "9acd5c2d19b747afa5e6279525a89121",
       "version_major": 2,
       "version_minor": 0
      },
      "text/plain": [
       "Render HTML:   0%|          | 0/1 [00:00<?, ?it/s]"
      ]
     },
     "metadata": {},
     "output_type": "display_data"
    },
    {
     "data": {
      "application/vnd.jupyter.widget-view+json": {
       "model_id": "d5c7fcaec4674497aad91258ed247faa",
       "version_major": 2,
       "version_minor": 0
      },
      "text/plain": [
       "Export report to file:   0%|          | 0/1 [00:00<?, ?it/s]"
      ]
     },
     "metadata": {},
     "output_type": "display_data"
    }
   ],
   "source": [
    "report = df.profile_report()\n",
    "report.to_file(output_file=\"results/przed_preprocessingiem.html\")"
   ]
  },
  {
   "cell_type": "markdown",
   "metadata": {},
   "source": [
    "W wygenerowanym raporcie widać zależność sysBP od diaBP.\n",
    "Używamy VIF do sprawdzenia tego."
   ]
  },
  {
   "cell_type": "code",
   "execution_count": 5,
   "metadata": {},
   "outputs": [
    {
     "name": "stdout",
     "output_type": "stream",
     "text": [
      "         feature         VIF\n",
      "0          diaBP  106.772663\n",
      "1          sysBP   99.486567\n",
      "2       diabetes    1.515865\n",
      "3      education    4.460419\n",
      "4        glucose   16.475212\n",
      "5  currentSmoker    1.897497\n"
     ]
    }
   ],
   "source": [
    "from statsmodels.stats.outliers_influence import variance_inflation_factor\n",
    "  \n",
    "X = df[['diaBP', 'sysBP', 'diabetes', 'education', 'glucose', 'currentSmoker']]\n",
    "    \n",
    "# VIF dataframe\n",
    "vif_data = pd.DataFrame()\n",
    "vif_data[\"feature\"] = X.columns\n",
    "  \n",
    "# calculating VIF for each feature\n",
    "vif_data[\"VIF\"] = [variance_inflation_factor(X.values, i)\n",
    "                          for i in range(len(X.columns))]\n",
    "\n",
    "print(vif_data)"
   ]
  },
  {
   "cell_type": "markdown",
   "metadata": {},
   "source": [
    "Widać, że jest problem"
   ]
  },
  {
   "cell_type": "markdown",
   "metadata": {},
   "source": [
    "Sprawdzamy też korelacje."
   ]
  },
  {
   "cell_type": "code",
   "execution_count": 6,
   "metadata": {},
   "outputs": [],
   "source": [
    "target = \"TenYearCHD\"\n",
    "numFeatures = ['age', 'totChol', 'cigsPerDay', 'diaBP', 'sysBP', 'BMI', 'heartRate', 'glucose']\n",
    "catFeatures = [ 'male', 'education', 'currentSmoker',  'BPMeds', 'prevalentStroke', 'prevalentHyp',  'diabetes']"
   ]
  },
  {
   "cell_type": "code",
   "execution_count": 7,
   "metadata": {},
   "outputs": [],
   "source": [
    "from sklearn import preprocessing"
   ]
  },
  {
   "cell_type": "code",
   "execution_count": 8,
   "metadata": {},
   "outputs": [],
   "source": [
    "df_o = pd.read_csv(\"data/heart.csv\")\n",
    "df = df_o.copy()\n",
    "df = df_o.copy()\n",
    "mapy = {}\n",
    "for feature in catFeatures:\n",
    "    # Inicjujemy obiekt do kodowania, który będzie przechowywal naszą mapę\n",
    "    le = preprocessing.LabelEncoder()\n",
    "    # Dopasowujemy dane (tworzymy mapę i od razu ją nakładamy na zmienną)\n",
    "    df[feature] = le.fit_transform(df_o[feature])\n",
    "    # Zapiszmy mapę, aby móc odzyskać oryginalne dane bez problemu\n",
    "    mapy[feature] = le"
   ]
  },
  {
   "cell_type": "code",
   "execution_count": 9,
   "metadata": {},
   "outputs": [],
   "source": [
    "from scipy import stats\n",
    "from sklearn import feature_selection"
   ]
  },
  {
   "cell_type": "code",
   "execution_count": 10,
   "metadata": {},
   "outputs": [],
   "source": [
    "df[target] = (df_o[target] == 1).astype(int)"
   ]
  },
  {
   "cell_type": "code",
   "execution_count": 12,
   "metadata": {},
   "outputs": [
    {
     "name": "stdout",
     "output_type": "stream",
     "text": [
      "\n",
      " male\n",
      "Kendall KendalltauResult(correlation=0.09174488519402911, pvalue=2.913056101400075e-08)\n",
      "Mutual info [0.00562216]\n",
      "Chi2 (array([17.12043013]), array([3.50828854e-05]))\n",
      "Anova (array([31.01724696]), array([2.74186569e-08]))\n",
      "\n",
      " education\n",
      "Kendall KendalltauResult(correlation=-0.06906201810736914, pvalue=6.58928523901043e-06)\n",
      "Mutual info [0.00694934]\n",
      "Chi2 (array([15.51824879]), array([8.17125909e-05]))\n",
      "Anova (array([14.59196477]), array([0.0001357]))\n",
      "\n",
      " currentSmoker\n",
      "Kendall KendalltauResult(correlation=0.019176196282060395, pvalue=0.24632269545786645)\n",
      "Mutual info [0.00028407]\n",
      "Chi2 (array([0.68691311]), array([0.40721634]))\n",
      "Anova (array([1.34416693]), array([0.24637621]))\n",
      "\n",
      " BPMeds\n",
      "Kendall KendalltauResult(correlation=0.08911570359021277, pvalue=7.139200453828643e-08)\n",
      "Mutual info [0.00274691]\n",
      "Chi2 (array([28.15300258]), array([1.12093636e-07]))\n",
      "Anova (array([29.25093742]), array([6.76635126e-08]))\n",
      "\n",
      " prevalentStroke\n",
      "Kendall KendalltauResult(correlation=0.04835057303345267, pvalue=0.0034655288244789667)\n",
      "Mutual info [0.0014884]\n",
      "Chi2 (array([8.49782271]), array([0.00355572]))\n",
      "Anova (array([8.56225715]), array([0.00345319]))\n",
      "\n",
      " prevalentHyp\n",
      "Kendall KendalltauResult(correlation=0.18155640194189573, pvalue=4.969583766836192e-28)\n",
      "Mutual info [0.00958927]\n",
      "Chi2 (array([82.96718408]), array([8.34269413e-20]))\n",
      "Anova (array([124.55135717]), array([1.83167339e-28]))\n",
      "\n",
      " diabetes\n",
      "Kendall KendalltauResult(correlation=0.09339741726940776, pvalue=1.6375675901633465e-08)\n",
      "Mutual info [0.0054958]\n",
      "Chi2 (array([31.02798685]), array([2.54334523e-08]))\n",
      "Anova (array([32.15461256]), array([1.53413972e-08]))\n"
     ]
    },
    {
     "data": {
      "text/plain": [
       "[(0.01077116375969922, 'prevalentHyp'),\n",
       " (0.005600311244622569, 'diabetes'),\n",
       " (0.004697321202663973, 'currentSmoker'),\n",
       " (0.0021544237087762763, 'education'),\n",
       " (0.0007966033301918252, 'prevalentStroke'),\n",
       " (4.228190243349417e-05, 'BPMeds'),\n",
       " (0, 'male')]"
      ]
     },
     "execution_count": 12,
     "metadata": {},
     "output_type": "execute_result"
    }
   ],
   "source": [
    "minfos=[]\n",
    "for var in catFeatures:\n",
    "    print(\"\\n\", var)\n",
    "    print(\"Kendall\", stats.kendalltau(df[target], df[var]))\n",
    "    print(\"Mutual info\", feature_selection.mutual_info_classif(df[var].values.reshape(-1,1),df[target].values))\n",
    "    minfos.append(feature_selection.mutual_info_classif(df[var].values.reshape(-1,1),df[target].values)[0])\n",
    "    print(\"Chi2\", feature_selection.chi2(df[var].values.reshape(-1,1),df[target].values))\n",
    "    print(\"Anova\", feature_selection.f_classif(df[var].values.reshape(-1,1),df[target].values))\n",
    "\n",
    "imp = list(zip(minfos, catFeatures))\n",
    "imp.sort(reverse=True)\n",
    "imp"
   ]
  },
  {
   "cell_type": "code",
   "execution_count": 13,
   "metadata": {
    "scrolled": false
   },
   "outputs": [
    {
     "name": "stdout",
     "output_type": "stream",
     "text": [
      "Values for pair age\n",
      "Spearman SpearmanrResult(correlation=0.2308387525955526, pvalue=2.025044957476851e-45)\n",
      "Mutual info [0.03373422]\n",
      "Values for pair totChol\n",
      "Spearman SpearmanrResult(correlation=0.08597336437171171, pvalue=1.9271397056260287e-07)\n",
      "Mutual info [0.00687696]\n",
      "Values for pair cigsPerDay\n",
      "Spearman SpearmanrResult(correlation=0.03934446939402349, pvalue=0.017356582684077852)\n",
      "Mutual info [0.00572341]\n",
      "Values for pair diaBP\n",
      "Spearman SpearmanrResult(correlation=0.13192470192572078, pvalue=1.1554254425155279e-15)\n",
      "Mutual info [0.01537164]\n",
      "Values for pair sysBP\n",
      "Spearman SpearmanrResult(correlation=0.1976648363586101, pvalue=1.5790946698340526e-33)\n",
      "Mutual info [0.01817213]\n",
      "Values for pair BMI\n",
      "Spearman SpearmanrResult(correlation=0.0794010072857738, pvalue=1.5327328240018309e-06)\n",
      "Mutual info [0.00711086]\n",
      "Values for pair heartRate\n",
      "Spearman SpearmanrResult(correlation=0.013800615879396145, pvalue=0.40416448048334586)\n",
      "Mutual info [0.00087074]\n",
      "Values for pair glucose\n",
      "Spearman SpearmanrResult(correlation=0.0544459187414956, pvalue=0.0009898978225834345)\n",
      "Mutual info [0.00542132]\n"
     ]
    },
    {
     "data": {
      "text/plain": [
       "[(0.02865262166747895, 'age'),\n",
       " (0.020098871149548225, 'sysBP'),\n",
       " (0.01077116375969922, 'prevalentHyp'),\n",
       " (0.005733860673471813, 'BMI'),\n",
       " (0.005600311244622569, 'diabetes'),\n",
       " (0.004697321202663973, 'currentSmoker'),\n",
       " (0.004439122081159486, 'diaBP'),\n",
       " (0.002282457616612943, 'cigsPerDay'),\n",
       " (0.0021544237087762763, 'education'),\n",
       " (0.0020563178083898848, 'totChol'),\n",
       " (0.00137420525392562, 'heartRate'),\n",
       " (0.0007966033301918252, 'prevalentStroke'),\n",
       " (4.228190243349417e-05, 'BPMeds'),\n",
       " (0, 'male'),\n",
       " (0, 'glucose')]"
      ]
     },
     "execution_count": 13,
     "metadata": {},
     "output_type": "execute_result"
    }
   ],
   "source": [
    "for var in numFeatures:\n",
    "    print(\"Values for pair {0}\".format(var))\n",
    "    print(\"Spearman\", stats.spearmanr(df[target], df[var]))\n",
    "    print(\"Mutual info\", feature_selection.mutual_info_classif(df[var].values.reshape(-1,1),df[target].values))\n",
    "    minfos.append(feature_selection.mutual_info_classif(df[var].values.reshape(-1,1),df[target].values)[0])\n",
    "\n",
    "imp = list(zip(minfos, catFeatures+numFeatures))\n",
    "imp.sort(reverse=True)\n",
    "imp"
   ]
  },
  {
   "cell_type": "markdown",
   "metadata": {},
   "source": [
    "sysBP ważniejszą zmienną od diaBP (zgadza się to z wiedzą medyczna)"
   ]
  },
  {
   "cell_type": "code",
   "execution_count": 14,
   "metadata": {},
   "outputs": [],
   "source": [
    "from sklearn.model_selection import KFold\n",
    "from sklearn.metrics import roc_auc_score\n",
    "import statsmodels.api as sm\n",
    "\n",
    "# Przygotujmy prosty wrapper\n",
    "def CVTest(nFolds = 5, randomState=2020, features=[]):\n",
    "    kf = KFold(n_splits=nFolds, shuffle=True, random_state=randomState)\n",
    "\n",
    "    # Aby oszczędzać pamięć informacja o foldach to wyłącznie numery wierszy\n",
    "    testResults = []\n",
    "    for train, test in kf.split(df.index.values):\n",
    "        mod = sm.GLM.from_formula(formula=target + \" ~ \"+ \"+\".join(features),\n",
    "                                  data=df_o.iloc[train], family=sm.families.Binomial())\n",
    "        res = mod.fit()\n",
    "        predsTrain = res.predict(df_o.iloc[train])\n",
    "        preds = res.predict(df_o.iloc[test])\n",
    "        testResults.append(roc_auc_score(df.TenYearCHD.iloc[test], 1-preds))\n",
    "        \n",
    "    return np.mean(testResults)"
   ]
  },
  {
   "cell_type": "code",
   "execution_count": 15,
   "metadata": {
    "scrolled": true
   },
   "outputs": [
    {
     "name": "stdout",
     "output_type": "stream",
     "text": [
      "age 0.31468446591254573\n",
      "totChol 0.43201436458847003\n",
      "cigsPerDay 0.4706062917507271\n",
      "diaBP 0.39438070988875495\n",
      "sysBP 0.3413852090395781\n",
      "BMI 0.43629397462758523\n",
      "heartRate 0.4894312868523114\n",
      "glucose 0.4557795348571517\n",
      "male 0.4362242421025263\n",
      "education 0.4430714515943735\n",
      "currentSmoker 0.486907353365796\n",
      "BPMeds 0.4789445234163038\n",
      "prevalentStroke 0.494715726909544\n",
      "prevalentHyp 0.38295930690108687\n",
      "diabetes 0.47891404341722604\n"
     ]
    }
   ],
   "source": [
    "imps2 = []\n",
    "for var in numFeatures+catFeatures:\n",
    "    res = CVTest(features=[var])\n",
    "    imps2.append((res, var))\n",
    "    print(var, res)"
   ]
  },
  {
   "cell_type": "code",
   "execution_count": 16,
   "metadata": {
    "scrolled": true
   },
   "outputs": [
    {
     "data": {
      "text/plain": [
       "[(0.494715726909544, 'prevalentStroke'),\n",
       " (0.4894312868523114, 'heartRate'),\n",
       " (0.486907353365796, 'currentSmoker'),\n",
       " (0.4789445234163038, 'BPMeds'),\n",
       " (0.47891404341722604, 'diabetes'),\n",
       " (0.4706062917507271, 'cigsPerDay'),\n",
       " (0.4557795348571517, 'glucose'),\n",
       " (0.4430714515943735, 'education'),\n",
       " (0.43629397462758523, 'BMI'),\n",
       " (0.4362242421025263, 'male'),\n",
       " (0.43201436458847003, 'totChol'),\n",
       " (0.39438070988875495, 'diaBP'),\n",
       " (0.38295930690108687, 'prevalentHyp'),\n",
       " (0.3413852090395781, 'sysBP'),\n",
       " (0.31468446591254573, 'age')]"
      ]
     },
     "execution_count": 16,
     "metadata": {},
     "output_type": "execute_result"
    }
   ],
   "source": [
    "imps2.sort(reverse=True)\n",
    "imps2"
   ]
  },
  {
   "cell_type": "markdown",
   "metadata": {},
   "source": [
    "Tutaj diaBP i sysBP podobne. Usuwamy diaBP."
   ]
  },
  {
   "cell_type": "markdown",
   "metadata": {},
   "source": [
    "Usuwamy też cigsPerDay i logarytmujemy niektóre zmienne."
   ]
  },
  {
   "cell_type": "markdown",
   "metadata": {},
   "source": [
    "Usuwamy choroby (0-1) ze względu niezbalansowanie. Nie łączymy chorób w jedną zmienną ponieważ nie wykazaliśmy korelacji pomiędzy chorobami i nie chcemy tracić interpretacji zmiennej prevalentHyp (nadciśnienie) na zmienną objaśnianą."
   ]
  },
  {
   "cell_type": "code",
   "execution_count": 17,
   "metadata": {},
   "outputs": [],
   "source": [
    "df = pd.read_csv(\"data/heart.csv\")\n",
    "\n",
    "df = df.drop(columns=['cigsPerDay', 'diaBP', 'BPMeds', 'diabetes', 'prevalentStroke'])\n",
    "\n",
    "df['log_glucose'] = np.log(df['glucose'])\n",
    "df = df.drop(columns=['glucose'])\n",
    "\n",
    "df['log_BMI'] = np.log(df['BMI'])\n",
    "df = df.drop(columns=['BMI'])\n",
    "\n",
    "df['log_sysBP'] = np.log(df['sysBP'])\n",
    "df = df.drop(columns=['sysBP'])\n",
    "\n",
    "df['log_totChol'] = np.log(df['totChol'])\n",
    "df = df.drop(columns=['totChol'])\n",
    "\n",
    "df.to_csv (r'data/ver2.csv', index = False, header=True)"
   ]
  },
  {
   "cell_type": "code",
   "execution_count": 18,
   "metadata": {},
   "outputs": [
    {
     "data": {
      "application/vnd.jupyter.widget-view+json": {
       "model_id": "a9089aceecd849e9be117bbf3a40ad7f",
       "version_major": 2,
       "version_minor": 0
      },
      "text/plain": [
       "Summarize dataset:   0%|          | 0/25 [00:00<?, ?it/s]"
      ]
     },
     "metadata": {},
     "output_type": "display_data"
    },
    {
     "data": {
      "application/vnd.jupyter.widget-view+json": {
       "model_id": "9ea4721647484ab8ace685a0970a7ed8",
       "version_major": 2,
       "version_minor": 0
      },
      "text/plain": [
       "Generate report structure:   0%|          | 0/1 [00:00<?, ?it/s]"
      ]
     },
     "metadata": {},
     "output_type": "display_data"
    },
    {
     "data": {
      "application/vnd.jupyter.widget-view+json": {
       "model_id": "62f0abeb317c481599b0773c271da9f2",
       "version_major": 2,
       "version_minor": 0
      },
      "text/plain": [
       "Render HTML:   0%|          | 0/1 [00:00<?, ?it/s]"
      ]
     },
     "metadata": {},
     "output_type": "display_data"
    },
    {
     "data": {
      "application/vnd.jupyter.widget-view+json": {
       "model_id": "c66046dbd4f84933bd7b6f1c2325938c",
       "version_major": 2,
       "version_minor": 0
      },
      "text/plain": [
       "Export report to file:   0%|          | 0/1 [00:00<?, ?it/s]"
      ]
     },
     "metadata": {},
     "output_type": "display_data"
    }
   ],
   "source": [
    "report = df.profile_report()\n",
    "report.to_file(output_file=\"results/po_preprocessingu_ver2.html\")"
   ]
  },
  {
   "cell_type": "markdown",
   "metadata": {},
   "source": [
    "---"
   ]
  },
  {
   "cell_type": "markdown",
   "metadata": {},
   "source": [
    "Poniżej inna propozycja modyfikacji zbioru danych (usuniecie niezbalansowanych zmiennych zero-jedynkowych i 'ogonów')"
   ]
  },
  {
   "cell_type": "code",
   "execution_count": 19,
   "metadata": {
    "scrolled": false
   },
   "outputs": [],
   "source": [
    "df = pd.read_csv(\"data/heart.csv\")\n",
    "\n",
    "df = df.drop(columns=['cigsPerDay', 'diaBP', 'BPMeds', 'diabetes', 'prevalentStroke'])\n",
    "\n",
    "df = df[df.glucose < 200]\n",
    "\n",
    "df['log_glucose'] = np.log(df['glucose'])\n",
    "df = df.drop(columns=['glucose'])\n",
    "\n",
    "df = df[df.totChol < 400]\n",
    "\n",
    "df = df[df.sysBP < 225]\n",
    "\n",
    "df = df[df.BMI < 45]\n",
    "\n",
    "df = df[df.heartRate < 130]\n",
    "\n",
    "df['log_BMI'] = np.log(df['BMI'])\n",
    "df = df.drop(columns=['BMI'])\n",
    "\n",
    "df['log_sysBP'] = np.log(df['sysBP'])\n",
    "df = df.drop(columns=['sysBP'])\n",
    "\n",
    "df['log_totChol'] = np.log(df['totChol'])\n",
    "df = df.drop(columns=['totChol'])\n",
    "\n",
    "df.to_csv (r'data/ver3.csv', index = False, header=True)"
   ]
  },
  {
   "cell_type": "code",
   "execution_count": 20,
   "metadata": {},
   "outputs": [
    {
     "data": {
      "application/vnd.jupyter.widget-view+json": {
       "model_id": "cdbcc7bf28ad4120a1feaff82962fa43",
       "version_major": 2,
       "version_minor": 0
      },
      "text/plain": [
       "Summarize dataset:   0%|          | 0/26 [00:00<?, ?it/s]"
      ]
     },
     "metadata": {},
     "output_type": "display_data"
    },
    {
     "data": {
      "application/vnd.jupyter.widget-view+json": {
       "model_id": "c31d5dbf43004bd4a864b010dac44f39",
       "version_major": 2,
       "version_minor": 0
      },
      "text/plain": [
       "Generate report structure:   0%|          | 0/1 [00:00<?, ?it/s]"
      ]
     },
     "metadata": {},
     "output_type": "display_data"
    },
    {
     "data": {
      "application/vnd.jupyter.widget-view+json": {
       "model_id": "389e8e663f76458396969c7b907ee676",
       "version_major": 2,
       "version_minor": 0
      },
      "text/plain": [
       "Render HTML:   0%|          | 0/1 [00:00<?, ?it/s]"
      ]
     },
     "metadata": {},
     "output_type": "display_data"
    },
    {
     "data": {
      "application/vnd.jupyter.widget-view+json": {
       "model_id": "26015ff479c04b68b19e67b207280e1d",
       "version_major": 2,
       "version_minor": 0
      },
      "text/plain": [
       "Export report to file:   0%|          | 0/1 [00:00<?, ?it/s]"
      ]
     },
     "metadata": {},
     "output_type": "display_data"
    }
   ],
   "source": [
    "report = df.profile_report()\n",
    "report.to_file(output_file=\"results/po_preprocessingu_ver3.html\")"
   ]
  },
  {
   "cell_type": "code",
   "execution_count": null,
   "metadata": {},
   "outputs": [],
   "source": []
  }
 ],
 "metadata": {
  "kernelspec": {
   "display_name": "Python 3",
   "language": "python",
   "name": "python3"
  },
  "language_info": {
   "codemirror_mode": {
    "name": "ipython",
    "version": 3
   },
   "file_extension": ".py",
   "mimetype": "text/x-python",
   "name": "python",
   "nbconvert_exporter": "python",
   "pygments_lexer": "ipython3",
   "version": "3.7.9"
  }
 },
 "nbformat": 4,
 "nbformat_minor": 2
}

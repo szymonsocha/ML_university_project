{
 "cells": [
  {
   "cell_type": "code",
   "execution_count": 40,
   "metadata": {},
   "outputs": [],
   "source": [
    "from random import shuffle\n",
    "from random import randint\n",
    "import pandas as pd\n",
    "import numpy as np\n",
    "import pickle\n",
    "from sklearn.model_selection import train_test_split\n",
    "from sklearn.model_selection import StratifiedKFold\n",
    "from operator import itemgetter\n",
    "import time\n",
    "import xgboost as xgb\n",
    "\n",
    "import matplotlib.pyplot as plt\n",
    "%matplotlib inline\n",
    "\n",
    "import gc"
   ]
  },
  {
   "cell_type": "code",
   "execution_count": 41,
   "metadata": {},
   "outputs": [
    {
     "name": "stdout",
     "output_type": "stream",
     "text": [
      "(3656, 11)\n"
     ]
    }
   ],
   "source": [
    "# Dla bazy danych ver2\n",
    "df = pd.read_csv(\"data/ver2.csv\")\n",
    "print(df.shape)\n",
    "df.head()\n",
    "target = \"TenYearCHD\"\n",
    "numFeatures = ['age', 'log_totChol','log_sysBP', 'log_BMI', 'heartRate', 'log_glucose']\n",
    "catFeatures = [ 'male', 'education', 'currentSmoker', 'prevalentHyp']"
   ]
  },
  {
   "cell_type": "code",
   "execution_count": 42,
   "metadata": {},
   "outputs": [],
   "source": [
    "from sklearn import preprocessing\n",
    "\n",
    "mapy = {}\n",
    "for feature in catFeatures:\n",
    "    # Iniciujemy obiekt do kodowania, który będzie przechowywał naszą mapę\n",
    "    le = preprocessing.LabelEncoder()\n",
    "    # Dopasowujemy danę (tworzymy mapę) i od razu ją nakadamy na zmienną na której robiliśmy dopasowanie\n",
    "    df[feature] = le.fit_transform(df[feature])\n",
    "\n",
    "    # Zapiszmy nasza mapę, aby móc odzyskać oryginalne dane bez problemu\n",
    "    mapy[feature] = le"
   ]
  },
  {
   "cell_type": "code",
   "execution_count": 43,
   "metadata": {},
   "outputs": [
    {
     "name": "stdout",
     "output_type": "stream",
     "text": [
      "['male', 'age', 'education', 'currentSmoker', 'prevalentHyp', 'heartRate', 'log_glucose', 'log_BMI', 'log_sysBP', 'log_totChol']\n"
     ]
    }
   ],
   "source": [
    "features = df.columns.tolist()\n",
    "features.remove(target)\n",
    "print(features)"
   ]
  },
  {
   "cell_type": "code",
   "execution_count": 44,
   "metadata": {},
   "outputs": [],
   "source": [
    "def run_xgb(train, validate, features, target, # argumenty obowiązkowe\n",
    "            eta=0.03, max_depth=7, subsample = 0.7, colsample_bytree = 0.7, # hiperparametry\n",
    "            colsample_bylevel=1,lambdaX = 1, alpha=0, gamma=0, min_child_weight=0, # hiperparametry\n",
    "            rate_drop = 0.2, skip_drop=0.5, # hiperparametry\n",
    "            num_boost_round = 1000, early_stopping_rounds = 50, # hiperparametry\n",
    "            debug=True, eval_metric= [\"auc\"], objective = \"binary:logistic\", # konfiguracja\n",
    "            seed=2017, booster = \"gbtree\", tree_method=\"hist\", grow_policy=\"depthwise\",\n",
    "           verbosity=1, silent=False): # konfiguracja\n",
    "    '''\n",
    "    Uniwersalny wrapper dla XGB dla gbtree i dart\n",
    "    Więcej opcji https://github.com/dmlc/xgboost/blob/master/doc/parameter.md\n",
    "    \n",
    "    Parametry\n",
    "    ----------\n",
    "    train, validate, features, target : wymagane zmienne bez domyślnych wartości\n",
    "    train, validate : pd.DataFrames z kolumnami opisanymi w features i target\n",
    "    features : lista zmiennych do wykorzystania w trenowaniu\n",
    "    target : nazwa zmiennej objasnianej\n",
    "    \n",
    "    --- Zmienne wspólne dla gbtree i dart\n",
    "        --- Zmienne właściwe dla Ensamble/Boosting\n",
    "        eta : \"learning rate\"\n",
    "        max_depth=7 : maksymalna głębokość drzew [0,∞]\n",
    "        subsample : udział (0,1] obserwacji do treningu jednej iteracji\n",
    "        colsample_bytree : udział (0,1] kolumn do treningu jednej iteracji\n",
    "        colsample_bylevel : udział  (0,1] kolumn na poziom do treningu jednej iteracji\n",
    "        --- Zmienne regularyzacyjne\n",
    "        lambdaX=0 : regularyzacja L2 [0,∞]\n",
    "        alpha=0 : regularyzacja L1 [0,∞]\n",
    "        gamma=1 : minimalna redukcja funkcji straty\n",
    "        min_child_weight=0 : minimalna suma wg poddrzewa\n",
    "\n",
    "    --- Zmienne dla algorytmu dart\n",
    "    rate_drop : \n",
    "    skip_drop : \n",
    "    \n",
    "    --- Zmienne dla XGB, opis/agorytm/liczba drzew etc.\n",
    "    num_boost_round : maksymalna liczba iteracji\n",
    "    early_stopping_rounds : margines iteracji dla early stopping\n",
    "    debug : Czy włączyć pełne opisy.\n",
    "    eval_metric : Pełna lista dostępna https://github.com/dmlc/xgboost/blob/master/doc/parameter.md \n",
    "    objective : reg:linear, reg:logistic, binary:logistic, multi:softmax lub inne Pełna lista dostępna https://github.com/dmlc/xgboost/blob/master/doc/parameter.md \n",
    "    seed : random seed\n",
    "    booster : ‘auto’, ‘exact’, ‘approx’, ‘hist’, ‘gpu_exact’, ‘gpu_hist’- silnik dla drzew gbtree (cart), dart (gbtree z dropoutem) lub gblinear\n",
    "    tree_method : zobacz http://xgboost.readthedocs.io/en/latest/parameter.html\n",
    "    grow_policy : depthwise, lossguide\n",
    "    '''\n",
    "   \n",
    "    start_time = time.time()\n",
    "    paramList= ['eta', 'max_depth',\n",
    "         'subsample', 'colsample_bytree', 'colsample_bylevel',\n",
    "         'lambdaX', 'alpha', 'gamma', 'min_child_weight',\n",
    "         'num_boost_round', 'early_stopping_rounds',\n",
    "         'rate_drop', 'skip_drop',\n",
    "         'eval_metric', 'objective', \n",
    "          'seed', 'booster', 'tree_method', 'grow_policy', 'verbosity', 'silent']\n",
    "    \n",
    "    # Stworzenie słownika do przekazania do XGB\n",
    "    params = dict()\n",
    "    for param in paramList:\n",
    "        params[param]=eval(param)\n",
    "    if(debug):\n",
    "        for param in paramList:\n",
    "            print(param, eval(param), end=\", \")\n",
    "        print('\\nLength train:', len(train.index))\n",
    "        print('Length valid:', len(validate.index))\n",
    "\n",
    "    # Automatyczne przekazanie liczby klas dla wielu poziomów klasyfikacji\n",
    "    if (params[\"objective\"]==\"multi:softmax\" or params[\"objective\"]==\"multi:softprob\"):\n",
    "        params[\"num_class\"]=train[target].nunique()\n",
    "    params[\"silent\"]=1\n",
    "    \n",
    "    # XGB wymaga w słowniku parametrów słowa kluczowego lambda, poniżej workaround\n",
    "    params[\"lambda\"]=lambdaX\n",
    "    \n",
    "    # Przekształcenie zbiorów do struktury DMatrix\n",
    "    # Struktura danych DMatrix pozwala na efektywne tworzenie drzew\n",
    "    dtrain = xgb.DMatrix(train[features].values, train[target].values, feature_names=train[features].columns.values)\n",
    "    dvalid = xgb.DMatrix(validate[features].values, validate[target].values, feature_names=validate[features].columns.values)\n",
    "\n",
    "    # Stworzenie listy zbiorów do ealuacji\n",
    "    evals = [(dtrain, 'train'), (dvalid, 'valid')]\n",
    "    \n",
    "    # Stworzenie zmiennej słownikowej do przekazania\n",
    "    train_history = dict()\n",
    "\n",
    "    # Uruchomienie algorytmu trenującego\n",
    "    gbm = xgb.train(params, dtrain, \n",
    "                    num_boost_round, early_stopping_rounds=early_stopping_rounds,\n",
    "                    evals=evals, evals_result=train_history, verbose_eval=debug)\n",
    "    \n",
    "    # Obliczenai statystyk i dodatkowych wartości\n",
    "    score = gbm.best_score\n",
    "\n",
    "    # Przekształcenie historii trenowania do Pandas Data Frame\n",
    "    trainHistory = dict()\n",
    "    for key in train_history.keys():\n",
    "        for metric in train_history[key].keys():\n",
    "            trainHistory[key+metric.upper()]=train_history[key][metric]\n",
    "    train_history = pd.DataFrame(trainHistory)\n",
    "\n",
    "    # Zapis przewidywanych wartości dla zbioru walidacyjnego dla najlepszej (z punktu widzenia walidacji) iteracji\n",
    "    trainPred = gbm.predict(dtrain, ntree_limit=gbm.best_iteration)\n",
    "    testPred = gbm.predict(dvalid, ntree_limit=gbm.best_iteration)\n",
    "\n",
    "    # Przygotowanie posortowanej listy dla wazności zmiennych, zamaist słownika\n",
    "    imp = gbm.get_fscore()\n",
    "    imp = sorted(imp.items(), key=itemgetter(1), reverse=True)\n",
    "\n",
    "    impFig=None\n",
    "    if(debug):\n",
    "        print('Czas trenowania: {} minut'.format(round((time.time() - start_time)/60, 2)))\n",
    "        # Skorzystanie z wbudowanej funkcji wizualizującej waznośc zmiennych\n",
    "        impFig, ax = plt.subplots()\n",
    "        xgb.plot_importance(gbm, ax=ax)\n",
    "    return score, trainPred, testPred, train_history, impFig, imp"
   ]
  },
  {
   "cell_type": "markdown",
   "metadata": {},
   "source": [
    "---"
   ]
  },
  {
   "cell_type": "markdown",
   "metadata": {},
   "source": [
    "##### Walidacja krzyżowa"
   ]
  },
  {
   "cell_type": "code",
   "execution_count": 45,
   "metadata": {},
   "outputs": [],
   "source": [
    "from sklearn.model_selection import KFold\n",
    "from sklearn import metrics\n",
    "from sklearn.ensemble import RandomForestClassifier\n",
    "from sklearn.metrics import roc_auc_score\n",
    "\n",
    "\n",
    "# Przygotujmy prosty wrapper\n",
    "def CVTestXGB(nFolds = 5, randomState=2020, features=features, debug=False, *args, **kwargs):\n",
    "    \n",
    "    # Przygotujmy walidację krzyżową\n",
    "    kf = KFold(n_splits=nFolds, shuffle=True, random_state=randomState)\n",
    "\n",
    "    # Zapisanie wyników ze zbioru treningowego i testowego\n",
    "    testResults = []\n",
    "    trainResults = []\n",
    "    \n",
    "    # Przechowajmy również predykcje dla poszczególnych foldów\n",
    "    predictions = []\n",
    "    \n",
    "    # Razem z informacją o tym, jaki był ich indeks w oryginalnym zbiorze danych\n",
    "    indices = []\n",
    "    \n",
    "    # Przygotujmy listę historii\n",
    "    hists = []\n",
    "    fold = 1\n",
    "    for train, test in kf.split(df.index.values):\n",
    "        # Przygotowanie estymatora\n",
    "        score, trainPred, testPred, train_history, impFig, imp = run_xgb(df.iloc[train], df.iloc[test],\n",
    "                                                                         features, target, debug=debug, *args, **kwargs)\n",
    "\n",
    "        # Zachowajmy informacje o predykcjach dla tego foldu\n",
    "        predictions.append(testPred.tolist().copy())\n",
    "        \n",
    "        # Razem z indeksami w oryginalnym data frame\n",
    "        indices.append(df.iloc[test].index.tolist().copy())\n",
    "        \n",
    "        # Informowanie o każdym foldzie razem z wynikami treningowymi możemy opcjonalnie wyświetlać w trakcie\n",
    "        trainScore = roc_auc_score(df[target].iloc[train], trainPred)\n",
    "        testScore = roc_auc_score(df[target].iloc[test], testPred)\n",
    "        \n",
    "        trainResults.append(trainScore)\n",
    "        testResults.append(testScore)\n",
    "        \n",
    "        hists.append(train_history.add_suffix('_'+str(fold)))\n",
    "        fold+=1\n",
    "        \n",
    "        if debug:\n",
    "            print(\"Train AUC:\", trainScore,\n",
    "                  \"Valid AUC:\", testScore)\n",
    "        \n",
    "    return trainResults, testResults, predictions, indices, pd.concat(hists, axis=1)"
   ]
  },
  {
   "cell_type": "markdown",
   "metadata": {},
   "source": [
    "---"
   ]
  },
  {
   "cell_type": "code",
   "execution_count": null,
   "metadata": {},
   "outputs": [
    {
     "name": "stdout",
     "output_type": "stream",
     "text": [
      "[04:44:30] WARNING: ..\\src\\learner.cc:541: \n",
      "Parameters: { early_stopping_rounds, lambdaX, num_boost_round, rate_drop, silent, skip_drop } might not be used.\n",
      "\n",
      "  This may not be accurate due to some parameters are only used in language bindings but\n",
      "  passed down to XGBoost core.  Or some parameters are not used but slip through this\n",
      "  verification. Please open an issue if you find above cases.\n",
      "\n",
      "\n",
      "[04:44:30] WARNING: ..\\src\\learner.cc:541: \n",
      "Parameters: { early_stopping_rounds, lambdaX, num_boost_round, rate_drop, silent, skip_drop } might not be used.\n",
      "\n",
      "  This may not be accurate due to some parameters are only used in language bindings but\n",
      "  passed down to XGBoost core.  Or some parameters are not used but slip through this\n",
      "  verification. Please open an issue if you find above cases.\n",
      "\n",
      "\n",
      "[04:44:31] WARNING: ..\\src\\learner.cc:541: \n",
      "Parameters: { early_stopping_rounds, lambdaX, num_boost_round, rate_drop, silent, skip_drop } might not be used.\n",
      "\n",
      "  This may not be accurate due to some parameters are only used in language bindings but\n",
      "  passed down to XGBoost core.  Or some parameters are not used but slip through this\n",
      "  verification. Please open an issue if you find above cases.\n",
      "\n",
      "\n",
      "[04:44:32] WARNING: ..\\src\\learner.cc:541: \n",
      "Parameters: { early_stopping_rounds, lambdaX, num_boost_round, rate_drop, silent, skip_drop } might not be used.\n",
      "\n",
      "  This may not be accurate due to some parameters are only used in language bindings but\n",
      "  passed down to XGBoost core.  Or some parameters are not used but slip through this\n",
      "  verification. Please open an issue if you find above cases.\n",
      "\n",
      "\n",
      "[04:44:34] WARNING: ..\\src\\learner.cc:541: \n",
      "Parameters: { early_stopping_rounds, lambdaX, num_boost_round, rate_drop, silent, skip_drop } might not be used.\n",
      "\n",
      "  This may not be accurate due to some parameters are only used in language bindings but\n",
      "  passed down to XGBoost core.  Or some parameters are not used but slip through this\n",
      "  verification. Please open an issue if you find above cases.\n",
      "\n",
      "\n",
      "0.7132287843303132 (8, 0.5689260909353719, 0.18100274811537684, 3.770176460589245, 8.518970075080587)\n",
      "[04:44:34] WARNING: ..\\src\\learner.cc:541: \n",
      "Parameters: { early_stopping_rounds, lambdaX, num_boost_round, rate_drop, silent, skip_drop } might not be used.\n",
      "\n",
      "  This may not be accurate due to some parameters are only used in language bindings but\n",
      "  passed down to XGBoost core.  Or some parameters are not used but slip through this\n",
      "  verification. Please open an issue if you find above cases.\n",
      "\n",
      "\n"
     ]
    }
   ],
   "source": [
    "import random\n",
    "results=[]\n",
    "paramList = []\n",
    "for x in range(100):\n",
    "    params = (random.randint(3, 9), random.uniform(0.1, 0.9), random.uniform(0.1, 0.9), random.uniform(0, 10), random.uniform(0, 10))\n",
    "    trainResults, testResults, predictions, indices, hists = CVTestXGB(\n",
    "        max_depth=params[0],\n",
    "        subsample = params[1],\n",
    "        colsample_bytree = params[2],\n",
    "        lambdaX=params[3],\n",
    "        gamma=params[4])\n",
    "    print(np.mean(testResults), params)\n",
    "    results.append(np.mean(testResults))\n",
    "    paramList.append(params)\n"
   ]
  },
  {
   "cell_type": "code",
   "execution_count": 33,
   "metadata": {},
   "outputs": [
    {
     "name": "stdout",
     "output_type": "stream",
     "text": [
      "(0.7285448242146847, (9, 0.2991584259346361, 0.8112936001356827, 6.995409550001176, 3.844416103106021))\n",
      "(0.727552513136642, (8, 0.27755492366907075, 0.734986578709555, 9.32643523611403, 1.167332095076522))\n",
      "(0.7274551328952794, (3, 0.4303771229225519, 0.750119310162075, 4.697861833593212, 0.20497264055284403))\n",
      "(0.7274539741238252, (9, 0.30719961142347796, 0.5003275523838066, 6.782874505432547, 1.5094976234865776))\n",
      "(0.7272683598483443, (6, 0.2485855427774534, 0.6409545658164972, 5.897133948449324, 0.520659877221149))\n",
      "(0.7271443360482092, (8, 0.8192873897273915, 0.6388911829601795, 8.889678472737884, 2.2834621912321564))\n",
      "(0.7271295862001609, (6, 0.2680123136108479, 0.5122529290796449, 8.301383213378642, 2.6147902649789225))\n",
      "(0.7269818135926615, (5, 0.5670092306874904, 0.8882394807055124, 2.8348119976517916, 1.4649131816662764))\n",
      "(0.7267386118397636, (8, 0.5298643207860769, 0.7332850198219332, 8.235566379610946, 4.199047551075293))\n",
      "(0.7266004001759372, (6, 0.7079555025379549, 0.8706585174951512, 7.538672784323101, 1.6420892451303448))\n"
     ]
    }
   ],
   "source": [
    "maxRes = []\n",
    "for i in range(1, len(paramList)):\n",
    "    maxRes.append(max(results[0:i]))\n",
    "imp = list(zip(results, paramList))\n",
    "imp.sort(reverse=True)\n",
    "for row in imp[0:10]:\n",
    "    print(row)"
   ]
  },
  {
   "cell_type": "code",
   "execution_count": 34,
   "metadata": {},
   "outputs": [
    {
     "data": {
      "image/png": "[encoded data removed]",
      "text/plain": [
       "<Figure size 432x288 with 1 Axes>"
      ]
     },
     "metadata": {
      "needs_background": "light"
     },
     "output_type": "display_data"
    }
   ],
   "source": [
    "plt.plot(list(range(len(results)-1)), maxRes)\n",
    "plt.show()"
   ]
  },
  {
   "cell_type": "code",
   "execution_count": 38,
   "metadata": {},
   "outputs": [
    {
     "name": "stdout",
     "output_type": "stream",
     "text": [
      "[04:37:53] WARNING: ..\\src\\learner.cc:541: \n",
      "Parameters: { early_stopping_rounds, lambdaX, num_boost_round, rate_drop, silent, skip_drop } might not be used.\n",
      "\n",
      "  This may not be accurate due to some parameters are only used in language bindings but\n",
      "  passed down to XGBoost core.  Or some parameters are not used but slip through this\n",
      "  verification. Please open an issue if you find above cases.\n",
      "\n",
      "\n",
      "[04:37:54] WARNING: ..\\src\\learner.cc:541: \n",
      "Parameters: { early_stopping_rounds, lambdaX, num_boost_round, rate_drop, silent, skip_drop } might not be used.\n",
      "\n",
      "  This may not be accurate due to some parameters are only used in language bindings but\n",
      "  passed down to XGBoost core.  Or some parameters are not used but slip through this\n",
      "  verification. Please open an issue if you find above cases.\n",
      "\n",
      "\n",
      "[04:37:54] WARNING: ..\\src\\learner.cc:541: \n",
      "Parameters: { early_stopping_rounds, lambdaX, num_boost_round, rate_drop, silent, skip_drop } might not be used.\n",
      "\n",
      "  This may not be accurate due to some parameters are only used in language bindings but\n",
      "  passed down to XGBoost core.  Or some parameters are not used but slip through this\n",
      "  verification. Please open an issue if you find above cases.\n",
      "\n",
      "\n",
      "[04:37:55] WARNING: ..\\src\\learner.cc:541: \n",
      "Parameters: { early_stopping_rounds, lambdaX, num_boost_round, rate_drop, silent, skip_drop } might not be used.\n",
      "\n",
      "  This may not be accurate due to some parameters are only used in language bindings but\n",
      "  passed down to XGBoost core.  Or some parameters are not used but slip through this\n",
      "  verification. Please open an issue if you find above cases.\n",
      "\n",
      "\n",
      "[04:37:56] WARNING: ..\\src\\learner.cc:541: \n",
      "Parameters: { early_stopping_rounds, lambdaX, num_boost_round, rate_drop, silent, skip_drop } might not be used.\n",
      "\n",
      "  This may not be accurate due to some parameters are only used in language bindings but\n",
      "  passed down to XGBoost core.  Or some parameters are not used but slip through this\n",
      "  verification. Please open an issue if you find above cases.\n",
      "\n",
      "\n",
      "0.7285448242146847\n"
     ]
    }
   ],
   "source": [
    "trainResults, testResults, predictions, indices, hists = CVTestXGB(\n",
    "        max_depth=9, subsample = 0.2991584259346361, colsample_bytree = 0.8112936001356827, lambdaX=6.995409550001176, gamma=3.844416103106021)\n",
    "print(np.mean(testResults))\n",
    "\n",
    "modelXGB_rs = {\n",
    "    \"name\":\"XGB_rs\",\n",
    "    \"description\":\"Model XGB, ze zmiennymi kategorycznymi z LE\",\n",
    "    \"specification\":'max_depth=9, subsample = 0.2991584259346361, colsample_bytree = 0.8112936001356827, lambdaX=6.995409550001176, gamma=3.844416103106021',\n",
    "    \"trainResults\":trainResults.copy(),\n",
    "    \"testResults\":testResults.copy(),\n",
    "    \"predictions\":predictions.copy(),\n",
    "    \"indices\":indices.copy(),\n",
    "}"
   ]
  },
  {
   "cell_type": "code",
   "execution_count": 39,
   "metadata": {},
   "outputs": [],
   "source": [
    "# Otwieramy plik do zapisu binarnego z wykorzystenim with\n",
    "with open(\"model_XGB_1_ver2_rs.p\", \"wb\") as fp:\n",
    "    # Zapisujemy obiekt do wskaźnika pliku\n",
    "    pickle.dump(modelXGB_rs, fp)"
   ]
  },
  {
   "cell_type": "code",
   "execution_count": null,
   "metadata": {},
   "outputs": [],
   "source": []
  }
 ],
 "metadata": {
  "kernelspec": {
   "display_name": "Python 3",
   "language": "python",
   "name": "python3"
  },
  "language_info": {
   "codemirror_mode": {
    "name": "ipython",
    "version": 3
   },
   "file_extension": ".py",
   "mimetype": "text/x-python",
   "name": "python",
   "nbconvert_exporter": "python",
   "pygments_lexer": "ipython3",
   "version": "3.7.9"
  }
 },
 "nbformat": 4,
 "nbformat_minor": 4
}

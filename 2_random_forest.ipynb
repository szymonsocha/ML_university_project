{
 "cells": [
  {
   "cell_type": "code",
   "execution_count": 1,
   "metadata": {},
   "outputs": [],
   "source": [
    "import pandas as pd\n",
    "import numpy as np\n",
    "import pickle\n",
    "import statsmodels.api as sm\n",
    "from sklearn import metrics\n",
    "\n",
    "import matplotlib.pyplot as plt\n",
    "plt.style.use('seaborn-ticks')\n",
    "%matplotlib inline"
   ]
  },
  {
   "cell_type": "code",
   "execution_count": 3,
   "metadata": {},
   "outputs": [
    {
     "name": "stdout",
     "output_type": "stream",
     "text": [
      "(3656, 16)\n"
     ]
    }
   ],
   "source": [
    "# Dla bazy danych heart\n",
    "df = pd.read_csv(\"data/heart.csv\")\n",
    "print(df.shape)\n",
    "df.head()\n",
    "target = \"TenYearCHD\"\n",
    "numFeatures = ['age', 'totChol', 'cigsPerDay', 'diaBP',' sysBP', 'BMI', 'heartRate', 'glucose']\n",
    "catFeatures = [ 'male', 'education', 'currentSmoker',  'BPMeds', 'prevalentStroke', 'prevalentHyp',  'diabetes']"
   ]
  },
  {
   "cell_type": "code",
   "execution_count": 4,
   "metadata": {},
   "outputs": [],
   "source": [
    "from sklearn import preprocessing"
   ]
  },
  {
   "cell_type": "code",
   "execution_count": 5,
   "metadata": {},
   "outputs": [],
   "source": [
    "features = df.columns.tolist()\n",
    "features.remove(target)\n",
    "#print(features)"
   ]
  },
  {
   "cell_type": "code",
   "execution_count": 6,
   "metadata": {},
   "outputs": [],
   "source": [
    "from sklearn.model_selection import KFold\n",
    "from sklearn import metrics\n",
    "from sklearn.ensemble import RandomForestClassifier\n",
    "from sklearn.metrics import roc_auc_score\n",
    "\n",
    "\n",
    "# Przygotujmy wrapper\n",
    "def CVTestRFClass(nFolds = 5, randomState=2020, debug=False, features=features, *args, **kwargs):\n",
    "    kf = KFold(n_splits=nFolds, shuffle=True, random_state=randomState)\n",
    "\n",
    "    # listy do przechowywania wyników:\n",
    "    testResults = []\n",
    "    trainResults = []\n",
    "    predictions = []\n",
    "    indices = []\n",
    "\n",
    "    # Pętla walidująca model na kolejnych foldach\n",
    "    for train, test in kf.split(df.index.values):\n",
    "        # Przygotowanie estymatora\n",
    "        clf = RandomForestClassifier(*args, **kwargs, random_state=randomState, n_jobs=-1)\n",
    "        if debug:\n",
    "            print(clf)\n",
    "        # Trenowanie modelu\n",
    "        clf.fit(df.iloc[train][features], df.iloc[train][target])\n",
    "\n",
    "        # Przygotowanie prognoz dla zbioru treningowego i testowego\n",
    "        # UWAGA Sklearn zwracał będzie dwie kolumny prawdopodobieństw dla obydwu klas\n",
    "        predsTrain = clf.predict_proba(df.iloc[train][features])[:,1]\n",
    "        preds = clf.predict_proba(df.iloc[test][features])[:,1]\n",
    "        \n",
    "        # Zachowajmy informacje o predykcjach dla tego foldu\n",
    "        predictions.append(preds.tolist().copy())\n",
    "        \n",
    "        # Razem z indeksami w oryginalnym data frame\n",
    "        indices.append(df.iloc[test].index.tolist().copy())\n",
    "        \n",
    "        # Policzenie dopasowania za pomocą metryki ROC-AUC\n",
    "        trainScore = roc_auc_score((df[target].iloc[train]==1).astype(int), predsTrain)\n",
    "        testScore = roc_auc_score((df[target].iloc[test]==1).astype(int), preds)\n",
    "        \n",
    "        # Zapisanie wyników do listy \n",
    "        trainResults.append(trainScore)\n",
    "        testResults.append(testScore)\n",
    "        \n",
    "        # Informowanie o każdym foldzie razem z wynikami treningowymi możemy opcjonalnie wyświetlać w trakcie\n",
    "        if debug:\n",
    "            print(\"Train AUC:\", trainScore,\n",
    "                  \"Valid AUC:\", testScore)\n",
    "        \n",
    "    return trainResults, testResults, predictions, indices"
   ]
  },
  {
   "cell_type": "code",
   "execution_count": 8,
   "metadata": {
    "scrolled": false
   },
   "outputs": [
    {
     "name": "stdout",
     "output_type": "stream",
     "text": [
      "RandomForestClassifier(n_jobs=-1, random_state=2020)\n",
      "Train AUC: 1.0 Valid AUC: 0.7109836305173926\n",
      "RandomForestClassifier(n_jobs=-1, random_state=2020)\n",
      "Train AUC: 1.0 Valid AUC: 0.7074943396226415\n",
      "RandomForestClassifier(n_jobs=-1, random_state=2020)\n",
      "Train AUC: 1.0 Valid AUC: 0.7053003300330032\n",
      "RandomForestClassifier(n_jobs=-1, random_state=2020)\n",
      "Train AUC: 1.0 Valid AUC: 0.6952415728728125\n",
      "RandomForestClassifier(n_jobs=-1, random_state=2020)\n",
      "Train AUC: 1.0 Valid AUC: 0.6792638055778863\n",
      "0.6996567357247472\n"
     ]
    }
   ],
   "source": [
    "trainResults, testResults, predictions, indices = CVTestRFClass(debug=True)\n",
    "print(np.mean(testResults))"
   ]
  },
  {
   "cell_type": "code",
   "execution_count": 9,
   "metadata": {
    "scrolled": true
   },
   "outputs": [
    {
     "name": "stdout",
     "output_type": "stream",
     "text": [
      "10 0.9995049383152628 0.654441245952992 0.34506369236227075\n",
      "25 0.9999978498734899 0.684975782793875 0.3150220670796149\n",
      "50 1.0 0.6967501820803316 0.30324981791966843\n",
      "100 1.0 0.6996567357247472 0.3003432642752528\n",
      "200 1.0 0.7068478997246166 0.2931521002753834\n",
      "500 1.0 0.7098007410678168 0.29019925893218323\n",
      "1000 1.0 0.713312569831927 0.28668743016807297\n",
      "2000 1.0 0.7146819809012184 0.28531801909878163\n",
      "5000 1.0 0.7149566245857633 0.28504337541423674\n"
     ]
    }
   ],
   "source": [
    "# Pętla po parametrze n_estimators\n",
    "for k in [10, 25, 50, 100, 200, 500, 1000, 2000, 5000]:\n",
    "    trainResults, testResults, predictions, indices = CVTestRFClass(n_estimators=k)\n",
    "    print(k, np.mean(trainResults), np.mean(testResults), np.mean(trainResults) - np.mean(testResults))"
   ]
  },
  {
   "cell_type": "markdown",
   "metadata": {},
   "source": [
    "Im więcej tym lepiej. Brak wyraźnej poprawy na więcej niż 1000 drzew. Zostawiamy 1000 drzew."
   ]
  },
  {
   "cell_type": "code",
   "execution_count": 10,
   "metadata": {
    "scrolled": false
   },
   "outputs": [
    {
     "name": "stdout",
     "output_type": "stream",
     "text": [
      "2 0.7350686287861714 0.7130499584474758 0.022018670338695645\n",
      "4 0.7745375333430269 0.7208074729058008 0.05373006043722606\n",
      "6 0.8362362592650177 0.7249365266501059 0.11129973261491177\n",
      "8 0.9146588812546816 0.7240269987457782 0.1906318825089034\n",
      "10 0.9770188113982409 0.7222699855173069 0.25474882588093395\n",
      "12 0.998473788154491 0.720374730846356 0.278099057308135\n",
      "14 0.9999992774690464 0.7176021055781632 0.2823971718908832\n",
      "16 1.0 0.716691287223918 0.28330871277608205\n",
      "18 1.0 0.7140450230107974 0.2859549769892026\n",
      "20 1.0 0.716942456221789 0.283057543778211\n"
     ]
    }
   ],
   "source": [
    "for k in range(2,22,2):\n",
    "    trainResults, testResults, predictions, indices = CVTestRFClass(n_estimators=1000, max_depth=k)\n",
    "    print(k, np.mean(trainResults), np.mean(testResults), np.mean(trainResults) - np.mean(testResults))"
   ]
  },
  {
   "cell_type": "markdown",
   "metadata": {},
   "source": [
    "Różnica gwałtownie rośnie wraz ze wzrostem głębokości. Dla 6 wydaje się najlepiej."
   ]
  },
  {
   "cell_type": "code",
   "execution_count": 11,
   "metadata": {
    "scrolled": false
   },
   "outputs": [
    {
     "name": "stdout",
     "output_type": "stream",
     "text": [
      "2 0.8297637153722457 0.7225065677577361 0.10725714761450955\n",
      "4 0.839636139652266 0.7240592076527872 0.11557693199947883\n",
      "6 0.8431357171290275 0.7231420732245833 0.11999364390444411\n",
      "8 0.8447555742662154 0.7241463532036864 0.12060922106252903\n",
      "10 0.8450186114349272 0.7234477596454788 0.12157085178944838\n",
      "12 0.845366580463744 0.7233716758535892 0.12199490461015483\n",
      "14 0.8454338905938062 0.722015977717812 0.12341791287599424\n"
     ]
    }
   ],
   "source": [
    "for k in range(2, len(features) + 1,2):\n",
    "    trainResults, testResults, predictions, indices = CVTestRFClass(n_estimators=1000, max_depth=6,\n",
    "                                                                    max_features=k)\n",
    "    print(k, np.mean(trainResults), np.mean(testResults), np.mean(trainResults) - np.mean(testResults))"
   ]
  },
  {
   "cell_type": "markdown",
   "metadata": {},
   "source": [
    "Najlepsze dla 8 zmiennych."
   ]
  },
  {
   "cell_type": "code",
   "execution_count": 12,
   "metadata": {
    "scrolled": true
   },
   "outputs": [
    {
     "name": "stdout",
     "output_type": "stream",
     "text": [
      "2 0.8447555742662154 0.7241463532036864 0.12060922106252903\n",
      "4 0.8427531991375012 0.7234606990493546 0.11929250008814662\n",
      "6 0.8396445992094648 0.724019837228085 0.11562476198137972\n",
      "8 0.8367490990219417 0.7233709628050736 0.1133781362168681\n",
      "10 0.8339749363352439 0.7234221739975777 0.1105527623376662\n",
      "15 0.8285287905218898 0.7235369644190028 0.10499182610288693\n",
      "20 0.8245272822402484 0.7237948095737898 0.10073247266645857\n",
      "30 0.818534007498193 0.7235967878559 0.09493721964229307\n"
     ]
    }
   ],
   "source": [
    "for k in [2, 4, 6, 8, 10, 15, 20, 30]:\n",
    "    trainResults, testResults, predictions, indices = CVTestRFClass(n_estimators=1000, max_depth=6,\n",
    "                                                                    max_features=8,\n",
    "                                                                    min_samples_split=k)\n",
    "    print(k, np.mean(trainResults), np.mean(testResults), np.mean(trainResults) - np.mean(testResults))"
   ]
  },
  {
   "cell_type": "markdown",
   "metadata": {},
   "source": [
    "Nie ma dużych różnic. Wybieramy 2."
   ]
  },
  {
   "cell_type": "code",
   "execution_count": 14,
   "metadata": {},
   "outputs": [
    {
     "name": "stdout",
     "output_type": "stream",
     "text": [
      "1 0.8447555742662154 0.7241463532036864 0.12060922106252903\n",
      "2 0.8453561082056025 0.7244746670785063 0.1208814411270962\n",
      "4 0.843317062945748 0.7247877619370412 0.11852930100870684\n",
      "6 0.8399871096567999 0.7243019116851179 0.11568519797168197\n",
      "8 0.8368258959862012 0.7246095465018476 0.11221634948435355\n",
      "10 0.833446522483771 0.7244091282300866 0.10903739425368442\n",
      "15 0.826257572769601 0.7240037128627073 0.10225385990689373\n",
      "20 0.8199049391752314 0.723956819858782 0.09594811931644942\n",
      "30 0.8084021713028611 0.7230802724674328 0.08532189883542829\n"
     ]
    }
   ],
   "source": [
    "for k in [1, 2, 4, 6, 8, 10, 15, 20, 30]:\n",
    "    trainResults, testResults, predictions, indices = CVTestRFClass(n_estimators=1000, max_depth=6,\n",
    "                                                                    max_features=8,\n",
    "                                                                    min_samples_split=2, min_samples_leaf=k)\n",
    "    print(k, np.mean(trainResults), np.mean(testResults), np.mean(trainResults) - np.mean(testResults))"
   ]
  },
  {
   "cell_type": "markdown",
   "metadata": {},
   "source": [
    "Coraz mniejsze przetrenowanie. Minimalnie najlepszy wynik dla 4."
   ]
  },
  {
   "cell_type": "code",
   "execution_count": 35,
   "metadata": {},
   "outputs": [
    {
     "name": "stdout",
     "output_type": "stream",
     "text": [
      "0.7247877619370412\n"
     ]
    }
   ],
   "source": [
    "trainResults, testResults, predictions, indices = CVTestRFClass(n_estimators=1000, max_depth=6,\n",
    "                                                                    max_features=8,\n",
    "                                                                    min_samples_split=2, min_samples_leaf=4)\n",
    "print(np.mean(testResults))\n",
    "\n",
    "modelRF = {\n",
    "    \"name\":\"RF\",\n",
    "    \"description\":\"Model RF, ze zmiennymi kategorycznymi z LE\",\n",
    "    \"specification\":'n_estimators=500, max_depth=20, max_features=4, min_samples_split=4, min_samples_leaf=1',\n",
    "    \"trainResults\":trainResults.copy(),\n",
    "    \"testResults\":testResults.copy(),\n",
    "    \"predictions\":predictions.copy(),\n",
    "    \"indices\":indices.copy(),\n",
    "}"
   ]
  },
  {
   "cell_type": "markdown",
   "metadata": {},
   "source": [
    "Poprawa z 0.699 na 0.725"
   ]
  },
  {
   "cell_type": "code",
   "execution_count": 36,
   "metadata": {},
   "outputs": [],
   "source": [
    "import pickle\n",
    "\n",
    "# Otwieramy plik do zapisu binarnego z wykorzystenim with\n",
    "with open(\"model_RF_1.p\", \"wb\") as fp:\n",
    "    # Zapisujemy obiekt do wskaźnika pliku\n",
    "    pickle.dump(modelRF, fp)"
   ]
  },
  {
   "cell_type": "markdown",
   "metadata": {},
   "source": [
    "---"
   ]
  },
  {
   "cell_type": "markdown",
   "metadata": {},
   "source": [
    "##### Random search"
   ]
  },
  {
   "cell_type": "code",
   "execution_count": 26,
   "metadata": {},
   "outputs": [],
   "source": [
    "# Przygotujmy listę do zapisywnia wyników\n",
    "results = []"
   ]
  },
  {
   "cell_type": "code",
   "execution_count": 27,
   "metadata": {},
   "outputs": [
    {
     "name": "stdout",
     "output_type": "stream",
     "text": [
      "{'max_depth': 14, 'max_features': 5, 'min_samples_split': 8, 'min_samples_leaf': 5} 0.719340716398358\n",
      "{'max_depth': 14, 'max_features': 4, 'min_samples_split': 13, 'min_samples_leaf': 10} 0.7229659972420723\n",
      "{'max_depth': 16, 'max_features': 9, 'min_samples_split': 10, 'min_samples_leaf': 5} 0.715025009545061\n",
      "{'max_depth': 7, 'max_features': 5, 'min_samples_split': 7, 'min_samples_leaf': 3} 0.7220028024360906\n",
      "{'max_depth': 17, 'max_features': 8, 'min_samples_split': 12, 'min_samples_leaf': 2} 0.7103878835450447\n",
      "{'max_depth': 14, 'max_features': 7, 'min_samples_split': 15, 'min_samples_leaf': 13} 0.7171226783125153\n",
      "{'max_depth': 11, 'max_features': 10, 'min_samples_split': 13, 'min_samples_leaf': 11} 0.7206881930240449\n",
      "{'max_depth': 17, 'max_features': 9, 'min_samples_split': 10, 'min_samples_leaf': 5} 0.7138276547526337\n",
      "{'max_depth': 9, 'max_features': 4, 'min_samples_split': 6, 'min_samples_leaf': 6} 0.7234355808104654\n",
      "{'max_depth': 9, 'max_features': 3, 'min_samples_split': 7, 'min_samples_leaf': 3} 0.7238584963125387\n",
      "{'max_depth': 18, 'max_features': 9, 'min_samples_split': 15, 'min_samples_leaf': 7} 0.7140855218392197\n",
      "\n",
      " Top 5:\n",
      "{'max_depth': 9, 'max_features': 3, 'min_samples_split': 7, 'min_samples_leaf': 3} 0.7238584963125387\n",
      "{'max_depth': 9, 'max_features': 4, 'min_samples_split': 6, 'min_samples_leaf': 6} 0.7234355808104654\n",
      "{'max_depth': 14, 'max_features': 4, 'min_samples_split': 13, 'min_samples_leaf': 10} 0.7229659972420723\n",
      "{'max_depth': 7, 'max_features': 5, 'min_samples_split': 7, 'min_samples_leaf': 3} 0.7220028024360906\n",
      "{'max_depth': 11, 'max_features': 10, 'min_samples_split': 13, 'min_samples_leaf': 11} 0.7206881930240449\n",
      "\n",
      "{'max_depth': 9, 'max_features': 3, 'min_samples_split': 11, 'min_samples_leaf': 1} 0.7203026467036461\n",
      "{'max_depth': 10, 'max_features': 7, 'min_samples_split': 10, 'min_samples_leaf': 7} 0.7210367580329289\n",
      "{'max_depth': 18, 'max_features': 2, 'min_samples_split': 3, 'min_samples_leaf': 3} 0.7180954948894335\n",
      "{'max_depth': 10, 'max_features': 6, 'min_samples_split': 13, 'min_samples_leaf': 1} 0.7151203477565955\n",
      "{'max_depth': 10, 'max_features': 5, 'min_samples_split': 10, 'min_samples_leaf': 2} 0.7174245252272564\n",
      "{'max_depth': 13, 'max_features': 10, 'min_samples_split': 13, 'min_samples_leaf': 5} 0.7155871503036055\n",
      "{'max_depth': 8, 'max_features': 5, 'min_samples_split': 4, 'min_samples_leaf': 4} 0.72101884429538\n",
      "{'max_depth': 17, 'max_features': 6, 'min_samples_split': 13, 'min_samples_leaf': 9} 0.7178730170968208\n",
      "{'max_depth': 13, 'max_features': 2, 'min_samples_split': 7, 'min_samples_leaf': 7} 0.7208745895214365\n",
      "{'max_depth': 9, 'max_features': 5, 'min_samples_split': 8, 'min_samples_leaf': 3} 0.7209218237645384\n",
      "\n",
      " Top 5:\n",
      "{'max_depth': 9, 'max_features': 3, 'min_samples_split': 7, 'min_samples_leaf': 3} 0.7238584963125387\n",
      "{'max_depth': 9, 'max_features': 4, 'min_samples_split': 6, 'min_samples_leaf': 6} 0.7234355808104654\n",
      "{'max_depth': 14, 'max_features': 4, 'min_samples_split': 13, 'min_samples_leaf': 10} 0.7229659972420723\n",
      "{'max_depth': 7, 'max_features': 5, 'min_samples_split': 7, 'min_samples_leaf': 3} 0.7220028024360906\n",
      "{'max_depth': 10, 'max_features': 7, 'min_samples_split': 10, 'min_samples_leaf': 7} 0.7210367580329289\n",
      "\n",
      "{'max_depth': 7, 'max_features': 5, 'min_samples_split': 8, 'min_samples_leaf': 2} 0.722054544264193\n",
      "{'max_depth': 9, 'max_features': 3, 'min_samples_split': 13, 'min_samples_leaf': 4} 0.7216227100200814\n",
      "{'max_depth': 8, 'max_features': 4, 'min_samples_split': 14, 'min_samples_leaf': 8} 0.7229266561998703\n",
      "{'max_depth': 12, 'max_features': 7, 'min_samples_split': 11, 'min_samples_leaf': 2} 0.7179651795354531\n",
      "{'max_depth': 7, 'max_features': 4, 'min_samples_split': 7, 'min_samples_leaf': 4} 0.7253215716091982\n",
      "{'max_depth': 7, 'max_features': 2, 'min_samples_split': 14, 'min_samples_leaf': 4} 0.7239257794068786\n",
      "{'max_depth': 14, 'max_features': 6, 'min_samples_split': 4, 'min_samples_leaf': 4} 0.7181389508686251\n",
      "{'max_depth': 7, 'max_features': 8, 'min_samples_split': 7, 'min_samples_leaf': 3} 0.724144548010295\n",
      "{'max_depth': 17, 'max_features': 3, 'min_samples_split': 7, 'min_samples_leaf': 3} 0.7201798388874024\n",
      "{'max_depth': 17, 'max_features': 8, 'min_samples_split': 13, 'min_samples_leaf': 1} 0.7120720643936937\n",
      "\n",
      " Top 5:\n",
      "{'max_depth': 7, 'max_features': 4, 'min_samples_split': 7, 'min_samples_leaf': 4} 0.7253215716091982\n",
      "{'max_depth': 7, 'max_features': 8, 'min_samples_split': 7, 'min_samples_leaf': 3} 0.724144548010295\n",
      "{'max_depth': 7, 'max_features': 2, 'min_samples_split': 14, 'min_samples_leaf': 4} 0.7239257794068786\n",
      "{'max_depth': 9, 'max_features': 3, 'min_samples_split': 7, 'min_samples_leaf': 3} 0.7238584963125387\n",
      "{'max_depth': 9, 'max_features': 4, 'min_samples_split': 6, 'min_samples_leaf': 6} 0.7234355808104654\n",
      "\n",
      "{'max_depth': 10, 'max_features': 3, 'min_samples_split': 7, 'min_samples_leaf': 7} 0.7222253084145626\n",
      "{'max_depth': 7, 'max_features': 5, 'min_samples_split': 8, 'min_samples_leaf': 1} 0.7208236742051325\n",
      "{'max_depth': 9, 'max_features': 5, 'min_samples_split': 4, 'min_samples_leaf': 2} 0.7193694616901666\n",
      "{'max_depth': 16, 'max_features': 4, 'min_samples_split': 2, 'min_samples_leaf': 1} 0.7067574157826999\n",
      "{'max_depth': 13, 'max_features': 9, 'min_samples_split': 9, 'min_samples_leaf': 9} 0.7155169778656181\n",
      "{'max_depth': 11, 'max_features': 10, 'min_samples_split': 15, 'min_samples_leaf': 12} 0.71808542768027\n",
      "{'max_depth': 9, 'max_features': 3, 'min_samples_split': 3, 'min_samples_leaf': 3} 0.719401761022949\n",
      "{'max_depth': 7, 'max_features': 10, 'min_samples_split': 6, 'min_samples_leaf': 3} 0.7209191550763221\n",
      "{'max_depth': 13, 'max_features': 3, 'min_samples_split': 15, 'min_samples_leaf': 13} 0.7201521427050703\n",
      "{'max_depth': 9, 'max_features': 10, 'min_samples_split': 3, 'min_samples_leaf': 1} 0.7204357229109697\n",
      "\n",
      " Top 5:\n",
      "{'max_depth': 7, 'max_features': 4, 'min_samples_split': 7, 'min_samples_leaf': 4} 0.7253215716091982\n",
      "{'max_depth': 7, 'max_features': 8, 'min_samples_split': 7, 'min_samples_leaf': 3} 0.724144548010295\n",
      "{'max_depth': 7, 'max_features': 2, 'min_samples_split': 14, 'min_samples_leaf': 4} 0.7239257794068786\n",
      "{'max_depth': 9, 'max_features': 3, 'min_samples_split': 7, 'min_samples_leaf': 3} 0.7238584963125387\n",
      "{'max_depth': 9, 'max_features': 4, 'min_samples_split': 6, 'min_samples_leaf': 6} 0.7234355808104654\n",
      "\n",
      "{'max_depth': 11, 'max_features': 2, 'min_samples_split': 12, 'min_samples_leaf': 3} 0.7218623910641728\n",
      "{'max_depth': 15, 'max_features': 9, 'min_samples_split': 3, 'min_samples_leaf': 3} 0.7147419713888089\n",
      "{'max_depth': 15, 'max_features': 2, 'min_samples_split': 7, 'min_samples_leaf': 3} 0.7166499764468042\n",
      "{'max_depth': 16, 'max_features': 6, 'min_samples_split': 7, 'min_samples_leaf': 3} 0.7110258845403791\n",
      "{'max_depth': 12, 'max_features': 2, 'min_samples_split': 12, 'min_samples_leaf': 10} 0.721423280706506\n",
      "{'max_depth': 9, 'max_features': 4, 'min_samples_split': 3, 'min_samples_leaf': 3} 0.7212711556941905\n",
      "{'max_depth': 16, 'max_features': 4, 'min_samples_split': 12, 'min_samples_leaf': 3} 0.7152293031224165\n",
      "{'max_depth': 14, 'max_features': 9, 'min_samples_split': 8, 'min_samples_leaf': 3} 0.7115277076784828\n",
      "{'max_depth': 7, 'max_features': 2, 'min_samples_split': 15, 'min_samples_leaf': 3} 0.7234428850245559\n"
     ]
    }
   ],
   "source": [
    "import random\n",
    "# Teraz napiszmy pętle, w której będziemy iterować kolejne wyszukiwania.\n",
    "for k in range(50):\n",
    "    # Przygotujmy słownik parametrów\n",
    "    # Jako punkt odniesienia do wybranych przedziałów posłużą nam wcześniejsze wyniki\n",
    "    params = {\n",
    "        \"max_depth\" : random.randint(7, 18),\n",
    "        \"max_features\" : random.randint(2, 10),\n",
    "        \"min_samples_split\" : random.randint(2, 15),\n",
    "    }\n",
    "    # Wartość min_samples_leaf musi być mniejsza niż min_samples_split\n",
    "    params[\"min_samples_leaf\"] = random.randint(1, params[\"min_samples_split\"])\n",
    "    \n",
    "    # Estymacja modelu dla wylosowanych hiperparametrów\n",
    "    trainResults, testResults, predictions, indices = CVTestRFClass(n_estimators=100,\n",
    "                                                                    max_depth=params[\"max_depth\"],\n",
    "                                                                    max_features=params[\"max_features\"],\n",
    "                                                                    min_samples_split=params[\"min_samples_split\"],\n",
    "                                                                    min_samples_leaf=params[\"min_samples_leaf\"])\n",
    "    \n",
    "    # Zapiszmy wynik\n",
    "    results.append((np.mean(testResults), params.copy()))\n",
    "    \n",
    "    # Wyświetlmy wynik bieżącej iteracji\n",
    "    print(params, np.mean(testResults))\n",
    "    \n",
    "    # Co 10 iteracji wyświetlmy sobie nasze dotychczasowe top 5\n",
    "    if k>1 and k%10==0:    \n",
    "        print(\"\\n Top 5:\")\n",
    "        for score, params in sorted(results, key=lambda x: x[0], reverse=True)[0:5]:\n",
    "            print(params, score)\n",
    "        print()"
   ]
  },
  {
   "cell_type": "code",
   "execution_count": 32,
   "metadata": {},
   "outputs": [
    {
     "name": "stdout",
     "output_type": "stream",
     "text": [
      "{'max_depth': 7, 'max_features': 4, 'min_samples_split': 7, 'min_samples_leaf': 4} 0.7253215716091982\n"
     ]
    }
   ],
   "source": [
    "for score, params in sorted(results, key=lambda x: x[0], reverse=True)[0:1]:\n",
    "            print(params, score)"
   ]
  },
  {
   "cell_type": "code",
   "execution_count": 28,
   "metadata": {},
   "outputs": [
    {
     "data": {
      "text/plain": [
       "[<matplotlib.lines.Line2D at 0x27a9cfb7648>]"
      ]
     },
     "execution_count": 28,
     "metadata": {},
     "output_type": "execute_result"
    },
    {
     "data": {
      "image/png": "[encoded data removed]",
      "text/plain": [
       "<Figure size 432x288 with 1 Axes>"
      ]
     },
     "metadata": {
      "needs_background": "light"
     },
     "output_type": "display_data"
    }
   ],
   "source": [
    "# Zobaczmy jak wyglądają wyniki od najlepszego graficznie\n",
    "plt.plot([x for x, y in sorted(results, key=lambda x: x[0], reverse=True)])"
   ]
  },
  {
   "cell_type": "code",
   "execution_count": 29,
   "metadata": {
    "scrolled": true
   },
   "outputs": [
    {
     "data": {
      "text/plain": [
       "[<matplotlib.lines.Line2D at 0x27a9302c508>]"
      ]
     },
     "execution_count": 29,
     "metadata": {},
     "output_type": "execute_result"
    },
    {
     "data": {
      "image/png": "[encoded data removed]",
      "text/plain": [
       "<Figure size 432x288 with 1 Axes>"
      ]
     },
     "metadata": {
      "needs_background": "light"
     },
     "output_type": "display_data"
    }
   ],
   "source": [
    "# Możemy tez zobaczyć jak z czasem poprawiał się najlepszy wynik:\n",
    "bestHistory = []\n",
    "for k in range(1,len(results)):\n",
    "    # List comprehension: dla k pierwszych wartości zwróć maximum\n",
    "    bestHistory.append(np.max([x for x, y in sorted(results[:k], key=lambda x: x[0], reverse=True)]))\n",
    "# Wykres historii\n",
    "plt.plot(bestHistory)"
   ]
  },
  {
   "cell_type": "markdown",
   "metadata": {},
   "source": [
    "---"
   ]
  },
  {
   "cell_type": "markdown",
   "metadata": {},
   "source": [
    "Estymacja na znalezionych parametrach."
   ]
  },
  {
   "cell_type": "code",
   "execution_count": 37,
   "metadata": {},
   "outputs": [
    {
     "name": "stdout",
     "output_type": "stream",
     "text": [
      "0.7259494023768782\n"
     ]
    }
   ],
   "source": [
    "trainResults, testResults, predictions, indices = CVTestRFClass(n_estimators=1000, max_depth=7,\n",
    "                                                                    max_features=4,\n",
    "                                                                    min_samples_split=7, min_samples_leaf=4)\n",
    "print(np.mean(testResults))\n",
    "\n",
    "modelRF_rs = {\n",
    "    \"name\":\"RF_rs\",\n",
    "    \"description\":\"Model RF, ze zmiennymi kategorycznymi z LE\",\n",
    "    \"specification\":'n_estimators=1000, max_depth=7, max_features=4, min_samples_split=7, min_samples_leaf=4',\n",
    "    \"trainResults\":trainResults.copy(),\n",
    "    \"testResults\":testResults.copy(),\n",
    "    \"predictions\":predictions.copy(),\n",
    "    \"indices\":indices.copy(),\n",
    "}"
   ]
  },
  {
   "cell_type": "code",
   "execution_count": 38,
   "metadata": {},
   "outputs": [],
   "source": [
    "# Otwieramy plik do zapisu binarnego z wykorzystenim with\n",
    "with open(\"model_RF_1_rs.p\", \"wb\") as fp:\n",
    "    # Zapisujemy obiekt do wskaźnika pliku\n",
    "    pickle.dump(modelRF_rs, fp)"
   ]
  },
  {
   "cell_type": "markdown",
   "metadata": {},
   "source": [
    "---"
   ]
  }
 ],
 "metadata": {
  "kernelspec": {
   "display_name": "Python 3",
   "language": "python",
   "name": "python3"
  },
  "language_info": {
   "codemirror_mode": {
    "name": "ipython",
    "version": 3
   },
   "file_extension": ".py",
   "mimetype": "text/x-python",
   "name": "python",
   "nbconvert_exporter": "python",
   "pygments_lexer": "ipython3",
   "version": "3.7.9"
  }
 },
 "nbformat": 4,
 "nbformat_minor": 4
}

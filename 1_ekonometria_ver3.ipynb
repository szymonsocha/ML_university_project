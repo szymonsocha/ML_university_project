{
 "cells": [
  {
   "cell_type": "code",
   "execution_count": 1,
   "metadata": {},
   "outputs": [],
   "source": [
    "import pandas as pd\n",
    "import numpy as np\n",
    "import pickle\n",
    "import matplotlib.pyplot as plt\n",
    "import statsmodels.api as sm\n",
    "from sklearn.metrics import roc_auc_score\n",
    "from sklearn.model_selection import KFold\n",
    "\n",
    "plt.style.use('seaborn-ticks')\n",
    "%matplotlib inline"
   ]
  },
  {
   "cell_type": "code",
   "execution_count": 2,
   "metadata": {
    "scrolled": false
   },
   "outputs": [
    {
     "name": "stdout",
     "output_type": "stream",
     "text": [
      "(3603, 11)\n"
     ]
    },
    {
     "data": {
      "text/html": [
       "<div>\n",
       "<style scoped>\n",
       "    .dataframe tbody tr th:only-of-type {\n",
       "        vertical-align: middle;\n",
       "    }\n",
       "\n",
       "    .dataframe tbody tr th {\n",
       "        vertical-align: top;\n",
       "    }\n",
       "\n",
       "    .dataframe thead th {\n",
       "        text-align: right;\n",
       "    }\n",
       "</style>\n",
       "<table border=\"1\" class=\"dataframe\">\n",
       "  <thead>\n",
       "    <tr style=\"text-align: right;\">\n",
       "      <th></th>\n",
       "      <th>male</th>\n",
       "      <th>age</th>\n",
       "      <th>education</th>\n",
       "      <th>currentSmoker</th>\n",
       "      <th>prevalentHyp</th>\n",
       "      <th>heartRate</th>\n",
       "      <th>TenYearCHD</th>\n",
       "      <th>log_glucose</th>\n",
       "      <th>log_BMI</th>\n",
       "      <th>log_sysBP</th>\n",
       "      <th>log_totChol</th>\n",
       "    </tr>\n",
       "  </thead>\n",
       "  <tbody>\n",
       "    <tr>\n",
       "      <th>0</th>\n",
       "      <td>1</td>\n",
       "      <td>39</td>\n",
       "      <td>4.0</td>\n",
       "      <td>0</td>\n",
       "      <td>0</td>\n",
       "      <td>80.0</td>\n",
       "      <td>0</td>\n",
       "      <td>4.343805</td>\n",
       "      <td>3.294725</td>\n",
       "      <td>4.663439</td>\n",
       "      <td>5.273000</td>\n",
       "    </tr>\n",
       "    <tr>\n",
       "      <th>1</th>\n",
       "      <td>0</td>\n",
       "      <td>46</td>\n",
       "      <td>2.0</td>\n",
       "      <td>0</td>\n",
       "      <td>0</td>\n",
       "      <td>95.0</td>\n",
       "      <td>0</td>\n",
       "      <td>4.330733</td>\n",
       "      <td>3.357942</td>\n",
       "      <td>4.795791</td>\n",
       "      <td>5.521461</td>\n",
       "    </tr>\n",
       "    <tr>\n",
       "      <th>2</th>\n",
       "      <td>1</td>\n",
       "      <td>48</td>\n",
       "      <td>1.0</td>\n",
       "      <td>1</td>\n",
       "      <td>0</td>\n",
       "      <td>75.0</td>\n",
       "      <td>0</td>\n",
       "      <td>4.248495</td>\n",
       "      <td>3.232384</td>\n",
       "      <td>4.848116</td>\n",
       "      <td>5.501258</td>\n",
       "    </tr>\n",
       "    <tr>\n",
       "      <th>3</th>\n",
       "      <td>0</td>\n",
       "      <td>61</td>\n",
       "      <td>3.0</td>\n",
       "      <td>1</td>\n",
       "      <td>1</td>\n",
       "      <td>65.0</td>\n",
       "      <td>1</td>\n",
       "      <td>4.634729</td>\n",
       "      <td>3.352707</td>\n",
       "      <td>5.010635</td>\n",
       "      <td>5.416100</td>\n",
       "    </tr>\n",
       "    <tr>\n",
       "      <th>4</th>\n",
       "      <td>0</td>\n",
       "      <td>46</td>\n",
       "      <td>3.0</td>\n",
       "      <td>1</td>\n",
       "      <td>0</td>\n",
       "      <td>85.0</td>\n",
       "      <td>0</td>\n",
       "      <td>4.442651</td>\n",
       "      <td>3.139833</td>\n",
       "      <td>4.867534</td>\n",
       "      <td>5.652489</td>\n",
       "    </tr>\n",
       "  </tbody>\n",
       "</table>\n",
       "</div>"
      ],
      "text/plain": [
       "   male  age  education  currentSmoker  prevalentHyp  heartRate  TenYearCHD  \\\n",
       "0     1   39        4.0              0             0       80.0           0   \n",
       "1     0   46        2.0              0             0       95.0           0   \n",
       "2     1   48        1.0              1             0       75.0           0   \n",
       "3     0   61        3.0              1             1       65.0           1   \n",
       "4     0   46        3.0              1             0       85.0           0   \n",
       "\n",
       "   log_glucose   log_BMI  log_sysBP  log_totChol  \n",
       "0     4.343805  3.294725   4.663439     5.273000  \n",
       "1     4.330733  3.357942   4.795791     5.521461  \n",
       "2     4.248495  3.232384   4.848116     5.501258  \n",
       "3     4.634729  3.352707   5.010635     5.416100  \n",
       "4     4.442651  3.139833   4.867534     5.652489  "
      ]
     },
     "execution_count": 2,
     "metadata": {},
     "output_type": "execute_result"
    }
   ],
   "source": [
    "# Wczytanie danych\n",
    "df = pd.read_csv(\"data/ver3.csv\")\n",
    "print(df.shape)\n",
    "pd.set_option(\"display.max_columns\",50)\n",
    "df.head()"
   ]
  },
  {
   "cell_type": "code",
   "execution_count": 3,
   "metadata": {},
   "outputs": [],
   "source": [
    "features = df.columns.tolist()\n",
    "features.remove('TenYearCHD')\n",
    "rhs = \"+\".join(features)"
   ]
  },
  {
   "cell_type": "code",
   "execution_count": 4,
   "metadata": {},
   "outputs": [
    {
     "name": "stdout",
     "output_type": "stream",
     "text": [
      "(2522, 11) (1081, 11)\n"
     ]
    }
   ],
   "source": [
    "# Zaimportowanie funkcji train_test_split z sklearn\n",
    "from sklearn.model_selection import train_test_split\n",
    "# Podzielenie zbioru na treningowy i testowy\n",
    "X_train, X_test, y_train, y_test = train_test_split(df, df.TenYearCHD, test_size=0.3, random_state=0)\n",
    "print(X_train.shape, X_test.shape)"
   ]
  },
  {
   "cell_type": "code",
   "execution_count": 5,
   "metadata": {
    "scrolled": false
   },
   "outputs": [
    {
     "name": "stdout",
     "output_type": "stream",
     "text": [
      "test: 0.1, Train AUC: 0.7314 Valid AUC: 0.7163\n",
      "test: 0.2, Train AUC: 0.7329 Valid AUC: 0.7192\n",
      "test: 0.3, Train AUC: 0.732 Valid AUC: 0.7263\n",
      "test: 0.4, Train AUC: 0.7264 Valid AUC: 0.7337\n",
      "test: 0.5, Train AUC: 0.725 Valid AUC: 0.7308\n",
      "test: 0.6, Train AUC: 0.7142 Valid AUC: 0.735\n",
      "test: 0.7, Train AUC: 0.7256 Valid AUC: 0.7267\n",
      "test: 0.8, Train AUC: 0.736 Valid AUC: 0.7123\n",
      "test: 0.9, Train AUC: 0.7526 Valid AUC: 0.6893\n"
     ]
    }
   ],
   "source": [
    "for k in range(1, 10):\n",
    "    X_train, X_test, y_train, y_test = train_test_split(df, df.TenYearCHD, test_size=0.1*k, random_state=2020)\n",
    "    mod = sm.GLM.from_formula(formula=\"TenYearCHD~\"+rhs, data=X_train, \n",
    "                              family=sm.families.Binomial())\n",
    "    res = mod.fit()\n",
    "    # Liczymy predykcje na zbiorze treningowym\n",
    "    predsTrain = res.predict()\n",
    "    # Liczymy predykcje na zbiorze walidacyjnym\n",
    "    preds = res.predict(X_test)\n",
    "    print(f\"test: {k/10}, Train AUC:\", round(roc_auc_score(y_train, predsTrain), 4),\n",
    "          \"Valid AUC:\", round(roc_auc_score(y_test, preds), 4))"
   ]
  },
  {
   "cell_type": "markdown",
   "metadata": {},
   "source": [
    "Przetrenowanie powyżej 0.7, dobry wynik dla 0.3."
   ]
  },
  {
   "cell_type": "code",
   "execution_count": 6,
   "metadata": {
    "scrolled": false
   },
   "outputs": [
    {
     "name": "stdout",
     "output_type": "stream",
     "text": [
      "Train AUC: 0.7314 Valid AUC: 0.7163\n",
      "Train AUC: 0.7319 Valid AUC: 0.7104\n",
      "Train AUC: 0.7301 Valid AUC: 0.734\n",
      "Train AUC: 0.7262 Valid AUC: 0.7614\n",
      "Train AUC: 0.7305 Valid AUC: 0.7225\n",
      "Train AUC: 0.7261 Valid AUC: 0.7633\n",
      "Train AUC: 0.7367 Valid AUC: 0.668\n",
      "Train AUC: 0.7318 Valid AUC: 0.7189\n",
      "Train AUC: 0.7314 Valid AUC: 0.7186\n",
      "Train AUC: 0.7317 Valid AUC: 0.7178\n"
     ]
    }
   ],
   "source": [
    "# Wczytanie funkcji KFold\n",
    "from sklearn.model_selection import KFold\n",
    "\n",
    "# Stworzenie funkcji do dzielenia foldów (w tym przypadku w walidacji 10 razy składanej)\n",
    "kf = KFold(n_splits=10, shuffle=True, random_state=2020)\n",
    "\n",
    "# Aby oszczędzać pamięć informacja o foldach to wyłącznie numery wierszy\n",
    "for train, test in kf.split(df.index.values): # tutaj następuje podział\n",
    "    # Stworzenie i estymacja modelu\n",
    "    mod = sm.GLM.from_formula(formula=\"TenYearCHD~\"+rhs,\n",
    "                              data=df.iloc[train], family=sm.families.Binomial())\n",
    "    res = mod.fit()\n",
    "    # Zapisanie predykcji na zbiorze treningowym w wektorze predsTrain\n",
    "    predsTrain = res.predict()\n",
    "    # Zapisanie predykcji na zbiorze walidacyjnym w wektorze predsTest\n",
    "    predsTest = res.predict(df.iloc[test])\n",
    "    print(\"Train AUC:\", np.round(roc_auc_score(df.TenYearCHD.iloc[train], predsTrain), 4),\n",
    "          \"Valid AUC:\", np.round(roc_auc_score(df.TenYearCHD.iloc[test], predsTest), 4))"
   ]
  },
  {
   "cell_type": "code",
   "execution_count": 7,
   "metadata": {},
   "outputs": [],
   "source": [
    "def CVTest(nFolds = 5, randomState=2020, debug=False):\n",
    "    kf = KFold(n_splits=nFolds, shuffle=True, random_state=randomState)\n",
    "\n",
    "    # Listy do zapisywania wyników\n",
    "    testResults = []\n",
    "    trainResults = []\n",
    "    predictions = []\n",
    "    indices = []\n",
    "    \n",
    "    for train, test in kf.split(df.index.values):\n",
    "        # Estymacja modelu GLM\n",
    "        mod = sm.GLM.from_formula(formula=\"TenYearCHD~\"+rhs,\n",
    "                                  data=df.iloc[train], family=sm.families.Binomial())\n",
    "        res = mod.fit()\n",
    "        predsTrain = res.predict()\n",
    "        preds = res.predict(df.iloc[test])\n",
    "        \n",
    "        # Zachowajmy informacje o predykcjach dla tego foldu\n",
    "        predictions.append(preds.tolist().copy())\n",
    "        \n",
    "        # Razem z indeksami w oryginalnym data frame\n",
    "        indices.append(df.iloc[test].index.tolist().copy())\n",
    "        \n",
    "        # Informowanie o każdym foldzie razem z wynikami treningowymi możemy opcjonalnie wyświetlać w trakcie\n",
    "        trainScore = roc_auc_score((df.TenYearCHD.iloc[train]==1).astype(int), predsTrain)\n",
    "        testScore = roc_auc_score((df.TenYearCHD.iloc[test]==1).astype(int), preds)\n",
    "        \n",
    "        # Zapisanie wyników dopasowania w foldach\n",
    "        trainResults.append(trainScore)\n",
    "        testResults.append(testScore)\n",
    "        \n",
    "        if debug:\n",
    "            print(\"Train AUC:\", trainScore,\n",
    "                  \"Valid AUC:\", testScore)\n",
    "\n",
    "    return trainResults, testResults, predictions, indices\n",
    " "
   ]
  },
  {
   "cell_type": "code",
   "execution_count": 8,
   "metadata": {
    "scrolled": false
   },
   "outputs": [
    {
     "name": "stdout",
     "output_type": "stream",
     "text": [
      "0.7307738206922597 0.7231204468226855\n"
     ]
    }
   ],
   "source": [
    "trainResults, testResults, predictions, indices = CVTest(nFolds = 10, randomState=2020)\n",
    "print(np.mean(trainResults), np.mean(testResults))"
   ]
  },
  {
   "cell_type": "code",
   "execution_count": 9,
   "metadata": {},
   "outputs": [],
   "source": [
    "resultM1 = {\n",
    "    \"name\": \"Ekonometria\",\n",
    "    \"description\":\"Model ekonometryczny\",\n",
    "    \"specification\": \"TenYearCHD~\"+rhs,\n",
    "    \"trainResults\":trainResults.copy(),\n",
    "    \"testResults\":testResults.copy(),\n",
    "    \"predictions\":predictions.copy(),\n",
    "    \"indices\":indices.copy(),\n",
    "}"
   ]
  },
  {
   "cell_type": "code",
   "execution_count": 10,
   "metadata": {},
   "outputs": [],
   "source": [
    "import pickle\n",
    "\n",
    "# Otwieramy plik do zapisu binarnego z wykorzystenim with\n",
    "with open(\"model_ekonometria_1_ver3.p\", \"wb\") as fp:\n",
    "    # Zapisujemy obiekt do wskaźnika pliku\n",
    "    pickle.dump(resultM1, fp)"
   ]
  }
 ],
 "metadata": {
  "kernelspec": {
   "display_name": "Python 3",
   "language": "python",
   "name": "python3"
  },
  "language_info": {
   "codemirror_mode": {
    "name": "ipython",
    "version": 3
   },
   "file_extension": ".py",
   "mimetype": "text/x-python",
   "name": "python",
   "nbconvert_exporter": "python",
   "pygments_lexer": "ipython3",
   "version": "3.7.9"
  }
 },
 "nbformat": 4,
 "nbformat_minor": 4
}

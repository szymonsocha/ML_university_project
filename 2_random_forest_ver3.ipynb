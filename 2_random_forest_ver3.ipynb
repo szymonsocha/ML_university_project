{
 "cells": [
  {
   "cell_type": "code",
   "execution_count": 1,
   "metadata": {},
   "outputs": [],
   "source": [
    "import pandas as pd\n",
    "import numpy as np\n",
    "import pickle\n",
    "import statsmodels.api as sm\n",
    "from sklearn import metrics\n",
    "\n",
    "import matplotlib.pyplot as plt\n",
    "plt.style.use('seaborn-ticks')\n",
    "%matplotlib inline"
   ]
  },
  {
   "cell_type": "code",
   "execution_count": 2,
   "metadata": {},
   "outputs": [
    {
     "name": "stdout",
     "output_type": "stream",
     "text": [
      "(3656, 16)\n"
     ]
    }
   ],
   "source": [
    "# Dla bazy danych heart\n",
    "df_o = pd.read_csv(\"data/heart.csv\")\n",
    "print(df_o.shape)\n",
    "df_o.head()\n",
    "target = \"TenYearCHD\"\n",
    "numFeatures = ['age', 'totChol', 'cigsPerDay', 'diaBP',' sysBP', 'BMI', 'heartRate', 'glucose']\n",
    "catFeatures = [ 'male', 'education', 'currentSmoker',  'BPMeds', 'prevalentStroke', 'prevalentHyp',  'diabetes']"
   ]
  },
  {
   "cell_type": "code",
   "execution_count": 6,
   "metadata": {},
   "outputs": [
    {
     "name": "stdout",
     "output_type": "stream",
     "text": [
      "(3603, 11)\n"
     ]
    }
   ],
   "source": [
    "# Dla bazy danych alt\n",
    "df_o = pd.read_csv(\"data/ver3.csv\")\n",
    "print(df_o.shape)\n",
    "df_o.head()\n",
    "target = \"TenYearCHD\"\n",
    "numFeatures = ['age', 'log_totChol','log_sysBP', 'log_BMI', 'heartRate', 'log_glucose']\n",
    "catFeatures = [ 'male', 'education', 'currentSmoker', 'prevalentHyp']"
   ]
  },
  {
   "cell_type": "code",
   "execution_count": 7,
   "metadata": {},
   "outputs": [],
   "source": [
    "from sklearn import preprocessing"
   ]
  },
  {
   "cell_type": "code",
   "execution_count": 8,
   "metadata": {},
   "outputs": [],
   "source": [
    "# Kopiowanie obiektu\n",
    "df = df_o.copy()\n",
    "# Słownik zawierachąch mapy\n",
    "mapy = {}\n",
    "for feature in catFeatures:\n",
    "    # Iniciujemy obiekt do kodowania, który będzie przechowywał mapę\n",
    "    le = preprocessing.LabelEncoder()\n",
    "    # Dopasowujemy kolumnę (tworzymy mapę) i od razu ją nakładamy na zmienną, na której robiliśmy dopasowanie\n",
    "    df[feature] = le.fit_transform(df_o[feature])\n",
    "    # Zapiszmy mapę, aby móc odzyskać informację o mapowaniu i oryginalnych wartościach\n",
    "    mapy[feature] = le"
   ]
  },
  {
   "cell_type": "code",
   "execution_count": 9,
   "metadata": {},
   "outputs": [],
   "source": [
    "features = df.columns.tolist()\n",
    "features.remove(target)\n",
    "#print(features)"
   ]
  },
  {
   "cell_type": "code",
   "execution_count": 10,
   "metadata": {},
   "outputs": [],
   "source": [
    "from sklearn.model_selection import KFold\n",
    "from sklearn import metrics\n",
    "from sklearn.ensemble import RandomForestClassifier\n",
    "from sklearn.metrics import roc_auc_score\n",
    "\n",
    "\n",
    "# Przygotujmy wrapper\n",
    "def CVTestRFClass(nFolds = 5, randomState=2020, debug=False, features=features, *args, **kwargs):\n",
    "    kf = KFold(n_splits=nFolds, shuffle=True, random_state=randomState)\n",
    "\n",
    "    # listy do przechowywania wyników:\n",
    "    testResults = []\n",
    "    trainResults = []\n",
    "    predictions = []\n",
    "    indices = []\n",
    "\n",
    "    # Pętla walidująca model na kolejnych foldach\n",
    "    for train, test in kf.split(df.index.values):\n",
    "        # Przygotowanie estymatora\n",
    "        clf = RandomForestClassifier(*args, **kwargs, random_state=randomState, n_jobs=-1)\n",
    "        if debug:\n",
    "            print(clf)\n",
    "        # Trenowanie modelu\n",
    "        clf.fit(df.iloc[train][features], df.iloc[train][target])\n",
    "\n",
    "        # Przygotowanie prognoz dla zbioru treningowego i testowego\n",
    "        # UWAGA Sklearn zwracał będzie dwie kolumny prawdopodobieństw dla obydwu klas\n",
    "        predsTrain = clf.predict_proba(df.iloc[train][features])[:,1]\n",
    "        preds = clf.predict_proba(df.iloc[test][features])[:,1]\n",
    "        \n",
    "        # Zachowajmy informacje o predykcjach dla tego foldu\n",
    "        predictions.append(preds.tolist().copy())\n",
    "        \n",
    "        # Razem z indeksami w oryginalnym data frame\n",
    "        indices.append(df.iloc[test].index.tolist().copy())\n",
    "        \n",
    "        # Policzenie dopasowania za pomocą metryki ROC-AUC\n",
    "        trainScore = roc_auc_score((df[target].iloc[train]==1).astype(int), predsTrain)\n",
    "        testScore = roc_auc_score((df[target].iloc[test]==1).astype(int), preds)\n",
    "        \n",
    "        # Zapisanie wyników do listy \n",
    "        trainResults.append(trainScore)\n",
    "        testResults.append(testScore)\n",
    "        \n",
    "        # Informowanie o każdym foldzie razem z wynikami treningowymi możemy opcjonalnie wyświetlać w trakcie\n",
    "        if debug:\n",
    "            print(\"Train AUC:\", trainScore,\n",
    "                  \"Valid AUC:\", testScore)\n",
    "        \n",
    "    return trainResults, testResults, predictions, indices"
   ]
  },
  {
   "cell_type": "code",
   "execution_count": 11,
   "metadata": {
    "scrolled": true
   },
   "outputs": [
    {
     "name": "stdout",
     "output_type": "stream",
     "text": [
      "RandomForestClassifier(n_jobs=-1, random_state=2020)\n",
      "Train AUC: 1.0 Valid AUC: 0.6914434311769735\n",
      "RandomForestClassifier(n_jobs=-1, random_state=2020)\n",
      "Train AUC: 0.9999999999999999 Valid AUC: 0.7298550724637681\n",
      "RandomForestClassifier(n_jobs=-1, random_state=2020)\n",
      "Train AUC: 1.0 Valid AUC: 0.7007326892109501\n",
      "RandomForestClassifier(n_jobs=-1, random_state=2020)\n",
      "Train AUC: 1.0 Valid AUC: 0.6740927057132591\n",
      "RandomForestClassifier(n_jobs=-1, random_state=2020)\n",
      "Train AUC: 1.0 Valid AUC: 0.7132849924535731\n",
      "0.7018817782037049\n"
     ]
    }
   ],
   "source": [
    "trainResults, testResults, predictions, indices = CVTestRFClass(debug=True)\n",
    "print(np.mean(testResults))"
   ]
  },
  {
   "cell_type": "code",
   "execution_count": 12,
   "metadata": {
    "scrolled": false
   },
   "outputs": [
    {
     "name": "stdout",
     "output_type": "stream",
     "text": [
      "10 0.9994889252941077 0.6602780765987336 0.3392108486953741\n",
      "25 0.99998301979115 0.6858014402558344 0.31418157953531556\n",
      "50 1.0 0.6948295907987545 0.3051704092012455\n",
      "100 1.0 0.7018817782037049 0.2981182217962951\n",
      "200 1.0 0.7001826022047163 0.2998173977952837\n",
      "500 1.0 0.7013565615106288 0.29864343848937125\n",
      "1000 1.0 0.7025725571904871 0.29742744280951294\n",
      "2000 1.0 0.7025237913084181 0.29747620869158187\n",
      "5000 1.0 0.7024647231368986 0.29753527686310144\n"
     ]
    }
   ],
   "source": [
    "# Pętla po parametrze n_estimators\n",
    "for k in [10, 25, 50, 100, 200, 500, 1000, 2000, 5000]:\n",
    "    trainResults, testResults, predictions, indices = CVTestRFClass(n_estimators=k)\n",
    "    print(k, np.mean(trainResults), np.mean(testResults), np.mean(trainResults) - np.mean(testResults))"
   ]
  },
  {
   "cell_type": "markdown",
   "metadata": {},
   "source": [
    "Im więcej drzew tym lepiej. Brak dużej poprawy na wysokości 1000 drzew (a wręcz pogorszenie, wynika to z losowości). Zostawiamy 1000 drzew."
   ]
  },
  {
   "cell_type": "code",
   "execution_count": 13,
   "metadata": {
    "scrolled": true
   },
   "outputs": [
    {
     "name": "stdout",
     "output_type": "stream",
     "text": [
      "2 0.7310263922024982 0.705754439630509 0.02527195257198922\n",
      "4 0.7783023252848434 0.7132147405202323 0.06508758476461118\n",
      "6 0.8535335687610779 0.7135870772278834 0.1399464915331945\n",
      "8 0.9408878699126099 0.7137812928051963 0.22710657710741355\n",
      "10 0.9909617500602399 0.7085910856254731 0.28237066443476677\n",
      "12 0.9997809402522513 0.7061555977376138 0.29362534251463746\n",
      "14 1.0 0.7046022941859389 0.2953977058140611\n",
      "16 1.0 0.7003397480868021 0.2996602519131979\n",
      "18 1.0 0.7008370117804847 0.29916298821951526\n",
      "20 1.0 0.7007079704184418 0.2992920295815582\n"
     ]
    }
   ],
   "source": [
    "for k in range(2,22,2):\n",
    "    trainResults, testResults, predictions, indices = CVTestRFClass(n_estimators=1000, max_depth=k)\n",
    "    print(k, np.mean(trainResults), np.mean(testResults), np.mean(trainResults) - np.mean(testResults))"
   ]
  },
  {
   "cell_type": "markdown",
   "metadata": {},
   "source": [
    "Szybkie przetrenowanie. Różnica gwałtownie rośnie wraz ze wzrostem głębokości. Dla 4 wydaje się najlepiej."
   ]
  },
  {
   "cell_type": "code",
   "execution_count": 14,
   "metadata": {
    "scrolled": false
   },
   "outputs": [
    {
     "name": "stdout",
     "output_type": "stream",
     "text": [
      "2 0.7766354370931996 0.7127590012536856 0.06387643583951397\n",
      "4 0.7785347882358457 0.712771401981175 0.06576338625467071\n",
      "6 0.7795613694326491 0.7130503918141256 0.06651097761852354\n",
      "8 0.779499419240561 0.7123761655049654 0.06712325373559558\n",
      "10 0.7799282046725768 0.712567930662378 0.06736027401019884\n"
     ]
    }
   ],
   "source": [
    "for k in range(2, len(features) + 1,2):\n",
    "    trainResults, testResults, predictions, indices = CVTestRFClass(n_estimators=1000, max_depth=4,\n",
    "                                                                    max_features=k)\n",
    "    print(k, np.mean(trainResults), np.mean(testResults), np.mean(trainResults) - np.mean(testResults))"
   ]
  },
  {
   "cell_type": "markdown",
   "metadata": {},
   "source": [
    "Najlepsze dla 6 zmiennych."
   ]
  },
  {
   "cell_type": "code",
   "execution_count": 21,
   "metadata": {
    "scrolled": false
   },
   "outputs": [
    {
     "name": "stdout",
     "output_type": "stream",
     "text": [
      "2 0.7795613694326491 0.7130503918141256 0.06651097761852354\n",
      "4 0.7793314430207527 0.7132694925581199 0.06606195046263286\n",
      "6 0.7786761757237051 0.7133159624264318 0.06536021329727326\n",
      "8 0.7780125218919396 0.7130783063834675 0.06493421550847212\n",
      "10 0.7774777957338893 0.7131339495353874 0.06434384619850186\n",
      "15 0.7763134013149268 0.7130339535065549 0.06327944780837191\n",
      "20 0.7754703845609814 0.7129834238980461 0.06248696066293524\n",
      "30 0.7740436407506899 0.7132039491357454 0.06083969161494451\n"
     ]
    }
   ],
   "source": [
    "for k in [2, 4, 6, 8, 10, 15, 20, 30]:\n",
    "    trainResults, testResults, predictions, indices = CVTestRFClass(n_estimators=1000, max_depth=4,\n",
    "                                                                    max_features=6,\n",
    "                                                                    min_samples_split=k)\n",
    "    print(k, np.mean(trainResults), np.mean(testResults), np.mean(trainResults) - np.mean(testResults))"
   ]
  },
  {
   "cell_type": "markdown",
   "metadata": {},
   "source": [
    "Niewielkie różnice, raczej kwestia losowosci. Wybieram 6."
   ]
  },
  {
   "cell_type": "code",
   "execution_count": 25,
   "metadata": {},
   "outputs": [
    {
     "name": "stdout",
     "output_type": "stream",
     "text": [
      "1 0.7786761757237051 0.7133159624264318 0.06536021329727326\n",
      "2 0.7795115219993953 0.7135815205738878 0.06593000142550753\n",
      "4 0.7793589204892999 0.7133851273388799 0.06597379315041996\n",
      "8 0.7772566882477812 0.7126216067562688 0.06463508149151231\n",
      "10 0.7763281677143745 0.7122984255914964 0.06402974212287815\n",
      "20 0.7716795515902193 0.7133742528985133 0.058305298691705976\n",
      "30 0.7679598176688751 0.7140703556515859 0.05388946201728917\n",
      "50 0.7616106676811434 0.7150041013299606 0.046606566351182765\n",
      "60 0.7586937352011096 0.7150547436034659 0.04363899159764373\n"
     ]
    }
   ],
   "source": [
    "for k in [1, 2, 4, 8, 10, 20, 30, 50 ,60]:\n",
    "    trainResults, testResults, predictions, indices = CVTestRFClass(n_estimators=1000, max_depth=4,\n",
    "                                                                    max_features=6,\n",
    "                                                                    min_samples_split=6, min_samples_leaf=k)\n",
    "    print(k, np.mean(trainResults), np.mean(testResults), np.mean(trainResults) - np.mean(testResults))"
   ]
  },
  {
   "cell_type": "markdown",
   "metadata": {},
   "source": [
    "Najpierw spada, pozniej rosnie. Wybieram 50."
   ]
  },
  {
   "cell_type": "code",
   "execution_count": 26,
   "metadata": {
    "scrolled": true
   },
   "outputs": [
    {
     "name": "stdout",
     "output_type": "stream",
     "text": [
      "0.7150041013299606\n"
     ]
    }
   ],
   "source": [
    "trainResults, testResults, predictions, indices = CVTestRFClass(n_estimators=1000, max_depth=4,\n",
    "                                                                    max_features=6,\n",
    "                                                                    min_samples_split=6, min_samples_leaf=50)\n",
    "print(np.mean(testResults))\n",
    "\n",
    "modelRF = {\n",
    "    \"name\":\"RF\",\n",
    "    \"description\":\"Model RF, ze zmiennymi kategorycznymi z LE\",\n",
    "    \"specification\":'n_estimators=500, max_depth=20, max_features=4, min_samples_split=4, min_samples_leaf=1',\n",
    "    \"trainResults\":trainResults.copy(),\n",
    "    \"testResults\":testResults.copy(),\n",
    "    \"predictions\":predictions.copy(),\n",
    "    \"indices\":indices.copy(),\n",
    "}"
   ]
  },
  {
   "cell_type": "markdown",
   "metadata": {},
   "source": [
    "Poprawa z 0.701 na 0.715"
   ]
  },
  {
   "cell_type": "code",
   "execution_count": 27,
   "metadata": {},
   "outputs": [],
   "source": [
    "import pickle\n",
    "\n",
    "# Otwieramy plik do zapisu binarnego z wykorzystenim with\n",
    "with open(\"model_RF_1_ver3.p\", \"wb\") as fp:\n",
    "    # Zapisujemy obiekt do wskaźnika pliku\n",
    "    pickle.dump(modelRF, fp)"
   ]
  },
  {
   "cell_type": "markdown",
   "metadata": {},
   "source": [
    "---"
   ]
  },
  {
   "cell_type": "code",
   "execution_count": 34,
   "metadata": {},
   "outputs": [],
   "source": [
    "# Przygotujmy listę do zapisywnia wyników\n",
    "results = []"
   ]
  },
  {
   "cell_type": "code",
   "execution_count": 35,
   "metadata": {},
   "outputs": [
    {
     "name": "stdout",
     "output_type": "stream",
     "text": [
      "{'max_depth': 14, 'max_features': 6, 'min_samples_split': 3, 'min_samples_leaf': 2} 0.7007722235420273\n",
      "{'max_depth': 18, 'max_features': 2, 'min_samples_split': 14, 'min_samples_leaf': 11} 0.7135711790703368\n",
      "{'max_depth': 12, 'max_features': 3, 'min_samples_split': 14, 'min_samples_leaf': 5} 0.7126357684406128\n",
      "{'max_depth': 18, 'max_features': 10, 'min_samples_split': 13, 'min_samples_leaf': 9} 0.7000634388771548\n",
      "{'max_depth': 10, 'max_features': 6, 'min_samples_split': 6, 'min_samples_leaf': 5} 0.7057289394569443\n",
      "{'max_depth': 8, 'max_features': 3, 'min_samples_split': 6, 'min_samples_leaf': 6} 0.7111595263756032\n",
      "{'max_depth': 9, 'max_features': 5, 'min_samples_split': 8, 'min_samples_leaf': 1} 0.7072766415011337\n",
      "{'max_depth': 8, 'max_features': 8, 'min_samples_split': 6, 'min_samples_leaf': 5} 0.7066549333623827\n",
      "{'max_depth': 13, 'max_features': 4, 'min_samples_split': 14, 'min_samples_leaf': 4} 0.7094086117684361\n",
      "{'max_depth': 8, 'max_features': 2, 'min_samples_split': 10, 'min_samples_leaf': 3} 0.7145825112125186\n",
      "{'max_depth': 10, 'max_features': 10, 'min_samples_split': 4, 'min_samples_leaf': 4} 0.7047345451428388\n",
      "\n",
      " Top 5:\n",
      "{'max_depth': 8, 'max_features': 2, 'min_samples_split': 10, 'min_samples_leaf': 3} 0.7145825112125186\n",
      "{'max_depth': 18, 'max_features': 2, 'min_samples_split': 14, 'min_samples_leaf': 11} 0.7135711790703368\n",
      "{'max_depth': 12, 'max_features': 3, 'min_samples_split': 14, 'min_samples_leaf': 5} 0.7126357684406128\n",
      "{'max_depth': 8, 'max_features': 3, 'min_samples_split': 6, 'min_samples_leaf': 6} 0.7111595263756032\n",
      "{'max_depth': 13, 'max_features': 4, 'min_samples_split': 14, 'min_samples_leaf': 4} 0.7094086117684361\n",
      "\n",
      "{'max_depth': 10, 'max_features': 2, 'min_samples_split': 4, 'min_samples_leaf': 2} 0.7075762397069895\n",
      "{'max_depth': 11, 'max_features': 7, 'min_samples_split': 13, 'min_samples_leaf': 6} 0.702672943679837\n",
      "{'max_depth': 12, 'max_features': 10, 'min_samples_split': 7, 'min_samples_leaf': 7} 0.7011399479621828\n",
      "{'max_depth': 14, 'max_features': 4, 'min_samples_split': 3, 'min_samples_leaf': 2} 0.7017926395616157\n",
      "{'max_depth': 17, 'max_features': 10, 'min_samples_split': 9, 'min_samples_leaf': 3} 0.6953750132598715\n",
      "{'max_depth': 10, 'max_features': 5, 'min_samples_split': 8, 'min_samples_leaf': 6} 0.7081704560043164\n",
      "{'max_depth': 9, 'max_features': 8, 'min_samples_split': 7, 'min_samples_leaf': 5} 0.7066843390672476\n",
      "{'max_depth': 7, 'max_features': 9, 'min_samples_split': 13, 'min_samples_leaf': 13} 0.7096887131556796\n",
      "{'max_depth': 17, 'max_features': 10, 'min_samples_split': 10, 'min_samples_leaf': 8} 0.6983064401730554\n",
      "{'max_depth': 8, 'max_features': 6, 'min_samples_split': 7, 'min_samples_leaf': 6} 0.7077282141924989\n",
      "\n",
      " Top 5:\n",
      "{'max_depth': 8, 'max_features': 2, 'min_samples_split': 10, 'min_samples_leaf': 3} 0.7145825112125186\n",
      "{'max_depth': 18, 'max_features': 2, 'min_samples_split': 14, 'min_samples_leaf': 11} 0.7135711790703368\n",
      "{'max_depth': 12, 'max_features': 3, 'min_samples_split': 14, 'min_samples_leaf': 5} 0.7126357684406128\n",
      "{'max_depth': 8, 'max_features': 3, 'min_samples_split': 6, 'min_samples_leaf': 6} 0.7111595263756032\n",
      "{'max_depth': 7, 'max_features': 9, 'min_samples_split': 13, 'min_samples_leaf': 13} 0.7096887131556796\n",
      "\n",
      "{'max_depth': 14, 'max_features': 3, 'min_samples_split': 8, 'min_samples_leaf': 2} 0.7024146050697369\n",
      "{'max_depth': 13, 'max_features': 5, 'min_samples_split': 8, 'min_samples_leaf': 3} 0.7038586933566808\n",
      "{'max_depth': 9, 'max_features': 10, 'min_samples_split': 13, 'min_samples_leaf': 13} 0.7063560001682628\n",
      "{'max_depth': 7, 'max_features': 10, 'min_samples_split': 2, 'min_samples_leaf': 2} 0.7103245249107157\n",
      "{'max_depth': 9, 'max_features': 5, 'min_samples_split': 7, 'min_samples_leaf': 6} 0.7128369925028218\n",
      "{'max_depth': 8, 'max_features': 4, 'min_samples_split': 2, 'min_samples_leaf': 2} 0.7117417507511709\n",
      "{'max_depth': 8, 'max_features': 9, 'min_samples_split': 6, 'min_samples_leaf': 5} 0.7056347520673939\n",
      "{'max_depth': 8, 'max_features': 7, 'min_samples_split': 12, 'min_samples_leaf': 2} 0.7114385732583977\n",
      "{'max_depth': 17, 'max_features': 4, 'min_samples_split': 8, 'min_samples_leaf': 7} 0.7107744740556862\n",
      "{'max_depth': 16, 'max_features': 10, 'min_samples_split': 14, 'min_samples_leaf': 11} 0.7042226446051542\n",
      "\n",
      " Top 5:\n",
      "{'max_depth': 8, 'max_features': 2, 'min_samples_split': 10, 'min_samples_leaf': 3} 0.7145825112125186\n",
      "{'max_depth': 18, 'max_features': 2, 'min_samples_split': 14, 'min_samples_leaf': 11} 0.7135711790703368\n",
      "{'max_depth': 9, 'max_features': 5, 'min_samples_split': 7, 'min_samples_leaf': 6} 0.7128369925028218\n",
      "{'max_depth': 12, 'max_features': 3, 'min_samples_split': 14, 'min_samples_leaf': 5} 0.7126357684406128\n",
      "{'max_depth': 8, 'max_features': 4, 'min_samples_split': 2, 'min_samples_leaf': 2} 0.7117417507511709\n",
      "\n",
      "{'max_depth': 7, 'max_features': 5, 'min_samples_split': 4, 'min_samples_leaf': 4} 0.7136411097376826\n",
      "{'max_depth': 13, 'max_features': 4, 'min_samples_split': 9, 'min_samples_leaf': 4} 0.7079652774661486\n",
      "{'max_depth': 7, 'max_features': 6, 'min_samples_split': 7, 'min_samples_leaf': 1} 0.7120730891593031\n",
      "{'max_depth': 8, 'max_features': 5, 'min_samples_split': 11, 'min_samples_leaf': 1} 0.7075617292596098\n",
      "{'max_depth': 17, 'max_features': 10, 'min_samples_split': 8, 'min_samples_leaf': 3} 0.6937144608713898\n",
      "{'max_depth': 8, 'max_features': 5, 'min_samples_split': 8, 'min_samples_leaf': 2} 0.710174864009945\n",
      "{'max_depth': 10, 'max_features': 7, 'min_samples_split': 14, 'min_samples_leaf': 2} 0.7050206195425222\n",
      "{'max_depth': 13, 'max_features': 8, 'min_samples_split': 7, 'min_samples_leaf': 5} 0.6996502756950946\n",
      "{'max_depth': 8, 'max_features': 2, 'min_samples_split': 14, 'min_samples_leaf': 12} 0.7133366718235228\n",
      "{'max_depth': 11, 'max_features': 4, 'min_samples_split': 14, 'min_samples_leaf': 10} 0.7085154815509782\n",
      "\n",
      " Top 5:\n",
      "{'max_depth': 8, 'max_features': 2, 'min_samples_split': 10, 'min_samples_leaf': 3} 0.7145825112125186\n",
      "{'max_depth': 7, 'max_features': 5, 'min_samples_split': 4, 'min_samples_leaf': 4} 0.7136411097376826\n",
      "{'max_depth': 18, 'max_features': 2, 'min_samples_split': 14, 'min_samples_leaf': 11} 0.7135711790703368\n",
      "{'max_depth': 8, 'max_features': 2, 'min_samples_split': 14, 'min_samples_leaf': 12} 0.7133366718235228\n",
      "{'max_depth': 9, 'max_features': 5, 'min_samples_split': 7, 'min_samples_leaf': 6} 0.7128369925028218\n",
      "\n",
      "{'max_depth': 18, 'max_features': 4, 'min_samples_split': 9, 'min_samples_leaf': 2} 0.7051701532193181\n",
      "{'max_depth': 10, 'max_features': 8, 'min_samples_split': 4, 'min_samples_leaf': 2} 0.702914354373646\n",
      "{'max_depth': 18, 'max_features': 4, 'min_samples_split': 12, 'min_samples_leaf': 10} 0.7095073534159692\n",
      "{'max_depth': 13, 'max_features': 2, 'min_samples_split': 14, 'min_samples_leaf': 2} 0.7066717572588674\n",
      "{'max_depth': 16, 'max_features': 2, 'min_samples_split': 7, 'min_samples_leaf': 6} 0.7073331155662329\n",
      "{'max_depth': 14, 'max_features': 4, 'min_samples_split': 15, 'min_samples_leaf': 14} 0.7105097463851779\n",
      "{'max_depth': 15, 'max_features': 8, 'min_samples_split': 9, 'min_samples_leaf': 6} 0.7031869213390587\n",
      "{'max_depth': 10, 'max_features': 7, 'min_samples_split': 5, 'min_samples_leaf': 1} 0.7017736311463811\n",
      "{'max_depth': 13, 'max_features': 2, 'min_samples_split': 6, 'min_samples_leaf': 3} 0.7086302173321117\n"
     ]
    }
   ],
   "source": [
    "import random\n",
    "# Teraz napiszmy pętle, w której będziemy iterować kolejne wyszukiwania.\n",
    "for k in range(50):\n",
    "    # Przygotujmy słownik parametrów\n",
    "    # Jako punkt odniesienia do wybranych przedziałów posłużą nam wcześniejsze wyniki\n",
    "    params = {\n",
    "        \"max_depth\" : random.randint(7, 18),\n",
    "        \"max_features\" : random.randint(2, 10),\n",
    "        \"min_samples_split\" : random.randint(2, 15),\n",
    "    }\n",
    "    # Wartość min_samples_leaf musi być mniejsza niż min_samples_split\n",
    "    params[\"min_samples_leaf\"] = random.randint(1, params[\"min_samples_split\"])\n",
    "    \n",
    "    # Estymacja modelu dla wylosowanych hiperparametrów\n",
    "    trainResults, testResults, predictions, indices = CVTestRFClass(n_estimators=100,\n",
    "                                                                    max_depth=params[\"max_depth\"],\n",
    "                                                                    max_features=params[\"max_features\"],\n",
    "                                                                    min_samples_split=params[\"min_samples_split\"],\n",
    "                                                                    min_samples_leaf=params[\"min_samples_leaf\"])\n",
    "    \n",
    "    # Zapiszmy wynik\n",
    "    results.append((np.mean(testResults), params.copy()))\n",
    "    \n",
    "    # Wyświetlmy wynik bieżącej iteracji\n",
    "    print(params, np.mean(testResults))\n",
    "    \n",
    "    # Co 10 iteracji wyświetlmy sobie nasze dotychczasowe top 5\n",
    "    if k>1 and k%10==0:    \n",
    "        print(\"\\n Top 5:\")\n",
    "        for score, params in sorted(results, key=lambda x: x[0], reverse=True)[0:5]:\n",
    "            print(params, score)\n",
    "        print()"
   ]
  },
  {
   "cell_type": "code",
   "execution_count": 38,
   "metadata": {},
   "outputs": [
    {
     "name": "stdout",
     "output_type": "stream",
     "text": [
      "{'max_depth': 8, 'max_features': 2, 'min_samples_split': 10, 'min_samples_leaf': 3} 0.7145825112125186\n"
     ]
    }
   ],
   "source": [
    "for score, params in sorted(results, key=lambda x: x[0], reverse=True)[0:1]:\n",
    "            print(params, score)"
   ]
  },
  {
   "cell_type": "code",
   "execution_count": 36,
   "metadata": {},
   "outputs": [
    {
     "data": {
      "text/plain": [
       "[<matplotlib.lines.Line2D at 0x2290a34cc88>]"
      ]
     },
     "execution_count": 36,
     "metadata": {},
     "output_type": "execute_result"
    },
    {
     "data": {
      "image/png": "[encoded data removed]",
      "text/plain": [
       "<Figure size 432x288 with 1 Axes>"
      ]
     },
     "metadata": {
      "needs_background": "light"
     },
     "output_type": "display_data"
    }
   ],
   "source": [
    "# Zobaczmy jak wyglądają wyniki od najlepszego graficznie\n",
    "plt.plot([x for x, y in sorted(results, key=lambda x: x[0], reverse=True)])"
   ]
  },
  {
   "cell_type": "code",
   "execution_count": 37,
   "metadata": {},
   "outputs": [
    {
     "data": {
      "text/plain": [
       "[<matplotlib.lines.Line2D at 0x22915342948>]"
      ]
     },
     "execution_count": 37,
     "metadata": {},
     "output_type": "execute_result"
    },
    {
     "data": {
      "image/png": "[encoded data removed]",
      "text/plain": [
       "<Figure size 432x288 with 1 Axes>"
      ]
     },
     "metadata": {
      "needs_background": "light"
     },
     "output_type": "display_data"
    }
   ],
   "source": [
    "# Możemy tez zobaczyć jak z czasem poprawiał się najlepszy wynik:\n",
    "bestHistory = []\n",
    "for k in range(1,len(results)):\n",
    "    # List comprehension: dla k pierwszych wartości zwróć maximum\n",
    "    bestHistory.append(np.max([x for x, y in sorted(results[:k], key=lambda x: x[0], reverse=True)]))\n",
    "# Wykres historii\n",
    "plt.plot(bestHistory)"
   ]
  },
  {
   "cell_type": "markdown",
   "metadata": {},
   "source": [
    "Zapisuję wyniki"
   ]
  },
  {
   "cell_type": "code",
   "execution_count": 41,
   "metadata": {},
   "outputs": [
    {
     "name": "stdout",
     "output_type": "stream",
     "text": [
      "0.7147446648387723\n"
     ]
    }
   ],
   "source": [
    "trainResults, testResults, predictions, indices = CVTestRFClass(n_estimators=1000, max_depth=8,\n",
    "                                                                    max_features=2,\n",
    "                                                                    min_samples_split=10, min_samples_leaf=3)\n",
    "print(np.mean(testResults))\n",
    "\n",
    "modelRF_rs = {\n",
    "    \"name\":\"RF_rs\",\n",
    "    \"description\":\"Model RF, ze zmiennymi kategorycznymi z LE\",\n",
    "    \"specification\":'n_estimators=500, max_depth=20, max_features=4, min_samples_split=4, min_samples_leaf=1',\n",
    "    \"trainResults\":trainResults.copy(),\n",
    "    \"testResults\":testResults.copy(),\n",
    "    \"predictions\":predictions.copy(),\n",
    "    \"indices\":indices.copy(),\n",
    "}"
   ]
  },
  {
   "cell_type": "code",
   "execution_count": 42,
   "metadata": {},
   "outputs": [],
   "source": [
    "# Otwieramy plik do zapisu binarnego z wykorzystenim with\n",
    "with open(\"model_RF_1_ver3_rs.p\", \"wb\") as fp:\n",
    "    # Zapisujemy obiekt do wskaźnika pliku\n",
    "    pickle.dump(modelRF_rs, fp)"
   ]
  },
  {
   "cell_type": "code",
   "execution_count": null,
   "metadata": {},
   "outputs": [],
   "source": []
  }
 ],
 "metadata": {
  "kernelspec": {
   "display_name": "Python 3",
   "language": "python",
   "name": "python3"
  },
  "language_info": {
   "codemirror_mode": {
    "name": "ipython",
    "version": 3
   },
   "file_extension": ".py",
   "mimetype": "text/x-python",
   "name": "python",
   "nbconvert_exporter": "python",
   "pygments_lexer": "ipython3",
   "version": "3.7.9"
  }
 },
 "nbformat": 4,
 "nbformat_minor": 4
}

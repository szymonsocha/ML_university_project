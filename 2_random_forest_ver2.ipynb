{
 "cells": [
  {
   "cell_type": "code",
   "execution_count": 2,
   "metadata": {},
   "outputs": [],
   "source": [
    "import pandas as pd\n",
    "import numpy as np\n",
    "import pickle\n",
    "import statsmodels.api as sm\n",
    "from sklearn import metrics\n",
    "\n",
    "import matplotlib.pyplot as plt\n",
    "plt.style.use('seaborn-ticks')\n",
    "%matplotlib inline"
   ]
  },
  {
   "cell_type": "code",
   "execution_count": 5,
   "metadata": {},
   "outputs": [
    {
     "name": "stdout",
     "output_type": "stream",
     "text": [
      "(3656, 11)\n"
     ]
    }
   ],
   "source": [
    "df = pd.read_csv(\"data/ver2.csv\")\n",
    "print(df.shape)\n",
    "df.head()\n",
    "target = \"TenYearCHD\"\n",
    "numFeatures = ['age', 'log_totChol','log_sysBP', 'log_BMI', 'heartRate', 'log_glucose']\n",
    "catFeatures = [ 'male', 'education', 'currentSmoker', 'prevalentHyp']"
   ]
  },
  {
   "cell_type": "code",
   "execution_count": 6,
   "metadata": {},
   "outputs": [],
   "source": [
    "from sklearn import preprocessing"
   ]
  },
  {
   "cell_type": "code",
   "execution_count": 8,
   "metadata": {},
   "outputs": [],
   "source": [
    "features = df.columns.tolist()\n",
    "features.remove(target)\n",
    "#print(features)"
   ]
  },
  {
   "cell_type": "code",
   "execution_count": 9,
   "metadata": {},
   "outputs": [],
   "source": [
    "from sklearn.model_selection import KFold\n",
    "from sklearn import metrics\n",
    "from sklearn.ensemble import RandomForestClassifier\n",
    "from sklearn.metrics import roc_auc_score\n",
    "\n",
    "\n",
    "# Przygotujmy wrapper\n",
    "def CVTestRFClass(nFolds = 5, randomState=2020, debug=False, features=features, *args, **kwargs):\n",
    "    kf = KFold(n_splits=nFolds, shuffle=True, random_state=randomState)\n",
    "\n",
    "    # listy do przechowywania wyników:\n",
    "    testResults = []\n",
    "    trainResults = []\n",
    "    predictions = []\n",
    "    indices = []\n",
    "\n",
    "    # Pętla walidująca model na kolejnych foldach\n",
    "    for train, test in kf.split(df.index.values):\n",
    "        # Przygotowanie estymatora\n",
    "        clf = RandomForestClassifier(*args, **kwargs, random_state=randomState, n_jobs=-1)\n",
    "        if debug:\n",
    "            print(clf)\n",
    "        # Trenowanie modelu\n",
    "        clf.fit(df.iloc[train][features], df.iloc[train][target])\n",
    "\n",
    "        # Przygotowanie prognoz dla zbioru treningowego i testowego\n",
    "        # UWAGA Sklearn zwracał będzie dwie kolumny prawdopodobieństw dla obydwu klas\n",
    "        predsTrain = clf.predict_proba(df.iloc[train][features])[:,1]\n",
    "        preds = clf.predict_proba(df.iloc[test][features])[:,1]\n",
    "        \n",
    "        # Zachowajmy informacje o predykcjach dla tego foldu\n",
    "        predictions.append(preds.tolist().copy())\n",
    "        \n",
    "        # Razem z indeksami w oryginalnym data frame\n",
    "        indices.append(df.iloc[test].index.tolist().copy())\n",
    "        \n",
    "        # Policzenie dopasowania za pomocą metryki ROC-AUC\n",
    "        trainScore = roc_auc_score((df[target].iloc[train]==1).astype(int), predsTrain)\n",
    "        testScore = roc_auc_score((df[target].iloc[test]==1).astype(int), preds)\n",
    "        \n",
    "        # Zapisanie wyników do listy \n",
    "        trainResults.append(trainScore)\n",
    "        testResults.append(testScore)\n",
    "        \n",
    "        # Informowanie o każdym foldzie razem z wynikami treningowymi możemy opcjonalnie wyświetlać w trakcie\n",
    "        if debug:\n",
    "            print(\"Train AUC:\", trainScore,\n",
    "                  \"Valid AUC:\", testScore)\n",
    "        \n",
    "    return trainResults, testResults, predictions, indices"
   ]
  },
  {
   "cell_type": "code",
   "execution_count": 10,
   "metadata": {
    "scrolled": true
   },
   "outputs": [
    {
     "name": "stdout",
     "output_type": "stream",
     "text": [
      "RandomForestClassifier(n_jobs=-1, random_state=2020)\n",
      "Train AUC: 1.0 Valid AUC: 0.7193510669394916\n",
      "RandomForestClassifier(n_jobs=-1, random_state=2020)\n",
      "Train AUC: 1.0 Valid AUC: 0.732701886792453\n",
      "RandomForestClassifier(n_jobs=-1, random_state=2020)\n",
      "Train AUC: 1.0 Valid AUC: 0.7077227722772277\n",
      "RandomForestClassifier(n_jobs=-1, random_state=2020)\n",
      "Train AUC: 1.0 Valid AUC: 0.7057880115702952\n",
      "RandomForestClassifier(n_jobs=-1, random_state=2020)\n",
      "Train AUC: 1.0 Valid AUC: 0.6892740090285079\n",
      "0.7109675493215951\n"
     ]
    }
   ],
   "source": [
    "trainResults, testResults, predictions, indices = CVTestRFClass(debug=True)\n",
    "print(np.mean(testResults))"
   ]
  },
  {
   "cell_type": "code",
   "execution_count": 11,
   "metadata": {
    "scrolled": false
   },
   "outputs": [
    {
     "name": "stdout",
     "output_type": "stream",
     "text": [
      "10 0.9993447001164455 0.6683192886584918 0.3310254114579537\n",
      "25 0.9999983721210726 0.6891622278603611 0.3108361442607115\n",
      "50 1.0 0.7038891727343872 0.2961108272656128\n",
      "100 1.0 0.7109675493215951 0.2890324506784049\n",
      "200 1.0 0.7123354649103907 0.2876645350896093\n",
      "500 1.0 0.7155729168001749 0.2844270831998251\n",
      "1000 1.0 0.7172712980105906 0.28272870198940936\n",
      "2000 1.0 0.7164799577256684 0.2835200422743316\n",
      "5000 1.0 0.7161053285287045 0.28389467147129555\n"
     ]
    }
   ],
   "source": [
    "# Pętla po parametrze n_estimators\n",
    "for k in [10, 25, 50, 100, 200, 500, 1000, 2000, 5000]:\n",
    "    trainResults, testResults, predictions, indices = CVTestRFClass(n_estimators=k)\n",
    "    print(k, np.mean(trainResults), np.mean(testResults), np.mean(trainResults) - np.mean(testResults))"
   ]
  },
  {
   "cell_type": "markdown",
   "metadata": {},
   "source": [
    "Najlepszy wynik dla 1000 drzew."
   ]
  },
  {
   "cell_type": "code",
   "execution_count": 12,
   "metadata": {
    "scrolled": false
   },
   "outputs": [
    {
     "name": "stdout",
     "output_type": "stream",
     "text": [
      "2 0.7342724331279189 0.7133635632993013 0.020908869828617616\n",
      "4 0.7752831061572094 0.7201872099880198 0.05509589616918964\n",
      "6 0.84160483419827 0.7234517585748964 0.11815307562337363\n",
      "8 0.9247994478005875 0.7246475143580705 0.20015193344251703\n",
      "10 0.9845335573632447 0.7241606081772591 0.2603729491859855\n",
      "12 0.999410037368704 0.7215429774534723 0.27786705991523175\n",
      "14 0.9999987438806487 0.7200050011585274 0.2799937427221213\n",
      "16 1.0 0.7172126451695066 0.28278735483049344\n",
      "18 1.0 0.7168815623388938 0.2831184376611062\n",
      "20 1.0 0.7171735498808571 0.28282645011914287\n"
     ]
    }
   ],
   "source": [
    "for k in range(2,22,2):\n",
    "    trainResults, testResults, predictions, indices = CVTestRFClass(n_estimators=1000, max_depth=k)\n",
    "    print(k, np.mean(trainResults), np.mean(testResults), np.mean(trainResults) - np.mean(testResults))"
   ]
  },
  {
   "cell_type": "markdown",
   "metadata": {},
   "source": [
    "Różnica gwałtownie rośnie wraz ze wzrostem głębokości (stopniowo wyhamowuje). Dla 8 wydaje się najlepiej."
   ]
  },
  {
   "cell_type": "code",
   "execution_count": 13,
   "metadata": {
    "scrolled": false
   },
   "outputs": [
    {
     "name": "stdout",
     "output_type": "stream",
     "text": [
      "2 0.9240161457362481 0.725648211669104 0.19836793406714415\n",
      "4 0.9251105769070598 0.7235140336589874 0.2015965432480724\n",
      "6 0.9236013718925193 0.7230713777092823 0.20052999418323703\n",
      "8 0.9221985017800879 0.7219347840118815 0.2002637177682064\n",
      "10 0.920970788184692 0.7220616555187642 0.1989091326659278\n"
     ]
    }
   ],
   "source": [
    "for k in range(2, len(features) + 1,2):\n",
    "    trainResults, testResults, predictions, indices = CVTestRFClass(n_estimators=1000, max_depth=8,\n",
    "                                                                    max_features=k)\n",
    "    print(k, np.mean(trainResults), np.mean(testResults), np.mean(trainResults) - np.mean(testResults))"
   ]
  },
  {
   "cell_type": "markdown",
   "metadata": {},
   "source": [
    "Im mniej tym lepiej. Wybieram 2."
   ]
  },
  {
   "cell_type": "code",
   "execution_count": 16,
   "metadata": {
    "scrolled": true
   },
   "outputs": [
    {
     "name": "stdout",
     "output_type": "stream",
     "text": [
      "2 0.9240161457362481 0.725648211669104 0.19836793406714415\n",
      "4 0.9172160471647721 0.726301044369617 0.19091500279515516\n",
      "10 0.8982365232083106 0.7268787775543678 0.1713577456539428\n",
      "15 0.8875240476804415 0.7266051074325747 0.1609189402478668\n",
      "20 0.8786915473871911 0.7270920623715111 0.15159948501568\n",
      "30 0.8658236340792314 0.7258098558443742 0.14001377823485717\n",
      "50 0.8473489527986551 0.7259245920895478 0.12142436070910723\n"
     ]
    }
   ],
   "source": [
    "for k in [2, 4, 10, 15, 20, 30, 50]:\n",
    "    trainResults, testResults, predictions, indices = CVTestRFClass(n_estimators=1000, max_depth=8,\n",
    "                                                                    max_features=2,\n",
    "                                                                    min_samples_split=k)\n",
    "    print(k, np.mean(trainResults), np.mean(testResults), np.mean(trainResults) - np.mean(testResults))"
   ]
  },
  {
   "cell_type": "markdown",
   "metadata": {},
   "source": [
    "Brak zależności. Najlepszy wynik dla 20."
   ]
  },
  {
   "cell_type": "code",
   "execution_count": 17,
   "metadata": {},
   "outputs": [
    {
     "name": "stdout",
     "output_type": "stream",
     "text": [
      "1 0.8786915473871911 0.7270920623715111 0.15159948501568\n",
      "2 0.8791356916347756 0.7277259170285687 0.15140977460620686\n",
      "4 0.8784591228264207 0.7280418264588411 0.1504172963675796\n",
      "6 0.8759404761087616 0.7271765332485474 0.14876394286021422\n",
      "8 0.8728603757573108 0.7260534685258437 0.14680690723146705\n",
      "10 0.8677328643224925 0.7271061371163698 0.14062672720612268\n",
      "15 0.8483001388310429 0.726557712112278 0.1217424267187649\n",
      "20 0.83318837064063 0.7264159322080593 0.10677243843257067\n",
      "30 0.810492283637401 0.725377986401351 0.08511429723605002\n"
     ]
    }
   ],
   "source": [
    "for k in [1, 2, 4, 6, 8, 10, 15, 20, 30]:\n",
    "    trainResults, testResults, predictions, indices = CVTestRFClass(n_estimators=1000, max_depth=8,\n",
    "                                                                    max_features=2,\n",
    "                                                                    min_samples_split=20, min_samples_leaf=k)\n",
    "    print(k, np.mean(trainResults), np.mean(testResults), np.mean(trainResults) - np.mean(testResults))"
   ]
  },
  {
   "cell_type": "markdown",
   "metadata": {},
   "source": [
    "Brak widocznej zależności. Wybieram 4."
   ]
  },
  {
   "cell_type": "code",
   "execution_count": 18,
   "metadata": {},
   "outputs": [
    {
     "name": "stdout",
     "output_type": "stream",
     "text": [
      "0.7280418264588411\n"
     ]
    }
   ],
   "source": [
    "trainResults, testResults, predictions, indices = CVTestRFClass(n_estimators=1000, max_depth=8,\n",
    "                                                                    max_features=2,\n",
    "                                                                    min_samples_split=20, min_samples_leaf=4)\n",
    "print(np.mean(testResults))\n",
    "\n",
    "modelRF = {\n",
    "    \"name\":\"RF\",\n",
    "    \"description\":\"Model RF, ze zmiennymi kategorycznymi z LE\",\n",
    "    \"specification\":'n_estimators=500, max_depth=20, max_features=4, min_samples_split=4, min_samples_leaf=1',\n",
    "    \"trainResults\":trainResults.copy(),\n",
    "    \"testResults\":testResults.copy(),\n",
    "    \"predictions\":predictions.copy(),\n",
    "    \"indices\":indices.copy(),\n",
    "}"
   ]
  },
  {
   "cell_type": "markdown",
   "metadata": {},
   "source": [
    "Poprawa z 0.710 na 0.728"
   ]
  },
  {
   "cell_type": "code",
   "execution_count": 19,
   "metadata": {},
   "outputs": [],
   "source": [
    "import pickle\n",
    "\n",
    "# Otwieramy plik do zapisu binarnego z wykorzystenim with\n",
    "with open(\"model_RF_1_ver2.p\", \"wb\") as fp:\n",
    "    # Zapisujemy obiekt do wskaźnika pliku\n",
    "    pickle.dump(modelRF, fp)"
   ]
  },
  {
   "cell_type": "markdown",
   "metadata": {},
   "source": [
    "---"
   ]
  },
  {
   "cell_type": "code",
   "execution_count": 27,
   "metadata": {},
   "outputs": [],
   "source": [
    "# Przygotujmy listę do zapisywnia wyników\n",
    "results = []"
   ]
  },
  {
   "cell_type": "code",
   "execution_count": 28,
   "metadata": {},
   "outputs": [
    {
     "name": "stdout",
     "output_type": "stream",
     "text": [
      "{'max_depth': 13, 'max_features': 4, 'min_samples_split': 3, 'min_samples_leaf': 3} 0.7190257420624707\n",
      "{'max_depth': 17, 'max_features': 9, 'min_samples_split': 14, 'min_samples_leaf': 10} 0.7199164243399742\n",
      "{'max_depth': 15, 'max_features': 4, 'min_samples_split': 7, 'min_samples_leaf': 1} 0.7148323231707884\n",
      "{'max_depth': 8, 'max_features': 9, 'min_samples_split': 5, 'min_samples_leaf': 3} 0.7178916643778418\n",
      "{'max_depth': 13, 'max_features': 9, 'min_samples_split': 6, 'min_samples_leaf': 2} 0.7073487244606326\n",
      "{'max_depth': 13, 'max_features': 10, 'min_samples_split': 15, 'min_samples_leaf': 11} 0.7172552518737192\n",
      "{'max_depth': 15, 'max_features': 9, 'min_samples_split': 9, 'min_samples_leaf': 5} 0.7125466115794549\n",
      "{'max_depth': 7, 'max_features': 5, 'min_samples_split': 3, 'min_samples_leaf': 1} 0.7212576332600735\n",
      "{'max_depth': 14, 'max_features': 3, 'min_samples_split': 10, 'min_samples_leaf': 7} 0.7226363803541022\n",
      "{'max_depth': 17, 'max_features': 7, 'min_samples_split': 13, 'min_samples_leaf': 12} 0.7224673111455285\n",
      "{'max_depth': 14, 'max_features': 2, 'min_samples_split': 8, 'min_samples_leaf': 6} 0.7219853641387719\n",
      "\n",
      " Top 5:\n",
      "{'max_depth': 14, 'max_features': 3, 'min_samples_split': 10, 'min_samples_leaf': 7} 0.7226363803541022\n",
      "{'max_depth': 17, 'max_features': 7, 'min_samples_split': 13, 'min_samples_leaf': 12} 0.7224673111455285\n",
      "{'max_depth': 14, 'max_features': 2, 'min_samples_split': 8, 'min_samples_leaf': 6} 0.7219853641387719\n",
      "{'max_depth': 7, 'max_features': 5, 'min_samples_split': 3, 'min_samples_leaf': 1} 0.7212576332600735\n",
      "{'max_depth': 17, 'max_features': 9, 'min_samples_split': 14, 'min_samples_leaf': 10} 0.7199164243399742\n",
      "\n",
      "{'max_depth': 9, 'max_features': 9, 'min_samples_split': 14, 'min_samples_leaf': 3} 0.7177533186463403\n",
      "{'max_depth': 17, 'max_features': 3, 'min_samples_split': 15, 'min_samples_leaf': 13} 0.7215790063535994\n",
      "{'max_depth': 16, 'max_features': 7, 'min_samples_split': 7, 'min_samples_leaf': 6} 0.7148518264849831\n",
      "{'max_depth': 15, 'max_features': 6, 'min_samples_split': 8, 'min_samples_leaf': 1} 0.7117024474774944\n",
      "{'max_depth': 17, 'max_features': 7, 'min_samples_split': 11, 'min_samples_leaf': 4} 0.7112944679617874\n",
      "{'max_depth': 10, 'max_features': 9, 'min_samples_split': 6, 'min_samples_leaf': 5} 0.717186769130849\n",
      "{'max_depth': 16, 'max_features': 5, 'min_samples_split': 9, 'min_samples_leaf': 3} 0.7171511197460095\n",
      "{'max_depth': 18, 'max_features': 7, 'min_samples_split': 2, 'min_samples_leaf': 1} 0.7078281949715624\n",
      "{'max_depth': 13, 'max_features': 9, 'min_samples_split': 13, 'min_samples_leaf': 11} 0.7181244167939242\n",
      "{'max_depth': 7, 'max_features': 6, 'min_samples_split': 12, 'min_samples_leaf': 6} 0.7205732883643267\n",
      "\n",
      " Top 5:\n",
      "{'max_depth': 14, 'max_features': 3, 'min_samples_split': 10, 'min_samples_leaf': 7} 0.7226363803541022\n",
      "{'max_depth': 17, 'max_features': 7, 'min_samples_split': 13, 'min_samples_leaf': 12} 0.7224673111455285\n",
      "{'max_depth': 14, 'max_features': 2, 'min_samples_split': 8, 'min_samples_leaf': 6} 0.7219853641387719\n",
      "{'max_depth': 17, 'max_features': 3, 'min_samples_split': 15, 'min_samples_leaf': 13} 0.7215790063535994\n",
      "{'max_depth': 7, 'max_features': 5, 'min_samples_split': 3, 'min_samples_leaf': 1} 0.7212576332600735\n",
      "\n",
      "{'max_depth': 16, 'max_features': 7, 'min_samples_split': 10, 'min_samples_leaf': 6} 0.7148518264849831\n",
      "{'max_depth': 15, 'max_features': 5, 'min_samples_split': 3, 'min_samples_leaf': 1} 0.7071571300324915\n",
      "{'max_depth': 15, 'max_features': 5, 'min_samples_split': 7, 'min_samples_leaf': 2} 0.7139274342136094\n",
      "{'max_depth': 9, 'max_features': 2, 'min_samples_split': 15, 'min_samples_leaf': 14} 0.7266404919671844\n",
      "{'max_depth': 17, 'max_features': 3, 'min_samples_split': 3, 'min_samples_leaf': 1} 0.7065036198493762\n",
      "{'max_depth': 17, 'max_features': 6, 'min_samples_split': 11, 'min_samples_leaf': 8} 0.7178962498297816\n",
      "{'max_depth': 8, 'max_features': 9, 'min_samples_split': 8, 'min_samples_leaf': 7} 0.7193680987270169\n",
      "{'max_depth': 14, 'max_features': 2, 'min_samples_split': 4, 'min_samples_leaf': 2} 0.7140004440299363\n",
      "{'max_depth': 8, 'max_features': 7, 'min_samples_split': 13, 'min_samples_leaf': 10} 0.723645651397198\n",
      "{'max_depth': 9, 'max_features': 8, 'min_samples_split': 14, 'min_samples_leaf': 2} 0.7148516725412362\n",
      "\n",
      " Top 5:\n",
      "{'max_depth': 9, 'max_features': 2, 'min_samples_split': 15, 'min_samples_leaf': 14} 0.7266404919671844\n",
      "{'max_depth': 8, 'max_features': 7, 'min_samples_split': 13, 'min_samples_leaf': 10} 0.723645651397198\n",
      "{'max_depth': 14, 'max_features': 3, 'min_samples_split': 10, 'min_samples_leaf': 7} 0.7226363803541022\n",
      "{'max_depth': 17, 'max_features': 7, 'min_samples_split': 13, 'min_samples_leaf': 12} 0.7224673111455285\n",
      "{'max_depth': 14, 'max_features': 2, 'min_samples_split': 8, 'min_samples_leaf': 6} 0.7219853641387719\n",
      "\n",
      "{'max_depth': 7, 'max_features': 3, 'min_samples_split': 9, 'min_samples_leaf': 9} 0.7232608164239249\n",
      "{'max_depth': 9, 'max_features': 5, 'min_samples_split': 6, 'min_samples_leaf': 3} 0.7216384596988048\n",
      "{'max_depth': 17, 'max_features': 8, 'min_samples_split': 3, 'min_samples_leaf': 3} 0.7140425475628225\n",
      "{'max_depth': 12, 'max_features': 7, 'min_samples_split': 13, 'min_samples_leaf': 12} 0.722141057556643\n",
      "{'max_depth': 15, 'max_features': 10, 'min_samples_split': 6, 'min_samples_leaf': 4} 0.714133921345784\n",
      "{'max_depth': 8, 'max_features': 6, 'min_samples_split': 7, 'min_samples_leaf': 3} 0.7170154247473115\n",
      "{'max_depth': 12, 'max_features': 9, 'min_samples_split': 11, 'min_samples_leaf': 5} 0.716779901839109\n",
      "{'max_depth': 12, 'max_features': 3, 'min_samples_split': 5, 'min_samples_leaf': 3} 0.724217150717212\n",
      "{'max_depth': 18, 'max_features': 7, 'min_samples_split': 8, 'min_samples_leaf': 6} 0.7153851642140877\n",
      "{'max_depth': 15, 'max_features': 2, 'min_samples_split': 14, 'min_samples_leaf': 13} 0.7259803250547028\n",
      "\n",
      " Top 5:\n",
      "{'max_depth': 9, 'max_features': 2, 'min_samples_split': 15, 'min_samples_leaf': 14} 0.7266404919671844\n",
      "{'max_depth': 15, 'max_features': 2, 'min_samples_split': 14, 'min_samples_leaf': 13} 0.7259803250547028\n",
      "{'max_depth': 12, 'max_features': 3, 'min_samples_split': 5, 'min_samples_leaf': 3} 0.724217150717212\n",
      "{'max_depth': 8, 'max_features': 7, 'min_samples_split': 13, 'min_samples_leaf': 10} 0.723645651397198\n",
      "{'max_depth': 7, 'max_features': 3, 'min_samples_split': 9, 'min_samples_leaf': 9} 0.7232608164239249\n",
      "\n",
      "{'max_depth': 9, 'max_features': 3, 'min_samples_split': 9, 'min_samples_leaf': 4} 0.7220841034097107\n",
      "{'max_depth': 14, 'max_features': 2, 'min_samples_split': 12, 'min_samples_leaf': 8} 0.7244039758166491\n",
      "{'max_depth': 13, 'max_features': 4, 'min_samples_split': 10, 'min_samples_leaf': 3} 0.7144528644031103\n",
      "{'max_depth': 7, 'max_features': 7, 'min_samples_split': 12, 'min_samples_leaf': 6} 0.7224900451912466\n",
      "{'max_depth': 13, 'max_features': 9, 'min_samples_split': 4, 'min_samples_leaf': 4} 0.7119794877650258\n",
      "{'max_depth': 18, 'max_features': 9, 'min_samples_split': 5, 'min_samples_leaf': 4} 0.7130060710217007\n",
      "{'max_depth': 10, 'max_features': 5, 'min_samples_split': 9, 'min_samples_leaf': 8} 0.7213207192871586\n",
      "{'max_depth': 18, 'max_features': 4, 'min_samples_split': 13, 'min_samples_leaf': 6} 0.71806824504761\n",
      "{'max_depth': 7, 'max_features': 5, 'min_samples_split': 14, 'min_samples_leaf': 14} 0.7238264165625496\n"
     ]
    }
   ],
   "source": [
    "import random\n",
    "# Teraz napiszmy pętle, w której będziemy iterować kolejne wyszukiwania.\n",
    "for k in range(50):\n",
    "    # Przygotujmy słownik parametrów\n",
    "    # Jako punkt odniesienia do wybranych przedziałów posłużą nam wcześniejsze wyniki\n",
    "    params = {\n",
    "        \"max_depth\" : random.randint(7, 18),\n",
    "        \"max_features\" : random.randint(2, 10),\n",
    "        \"min_samples_split\" : random.randint(2, 15),\n",
    "    }\n",
    "    # Wartość min_samples_leaf musi być mniejsza niż min_samples_split\n",
    "    params[\"min_samples_leaf\"] = random.randint(1, params[\"min_samples_split\"])\n",
    "    \n",
    "    # Estymacja modelu dla wylosowanych hiperparametrów\n",
    "    trainResults, testResults, predictions, indices = CVTestRFClass(n_estimators=100,\n",
    "                                                                    max_depth=params[\"max_depth\"],\n",
    "                                                                    max_features=params[\"max_features\"],\n",
    "                                                                    min_samples_split=params[\"min_samples_split\"],\n",
    "                                                                    min_samples_leaf=params[\"min_samples_leaf\"])\n",
    "    \n",
    "    # Zapiszmy wynik\n",
    "    results.append((np.mean(testResults), params.copy()))\n",
    "    \n",
    "    # Wyświetlmy wynik bieżącej iteracji\n",
    "    print(params, np.mean(testResults))\n",
    "    \n",
    "    # Co 10 iteracji wyświetlmy sobie nasze dotychczasowe top 5\n",
    "    if k>1 and k%10==0:    \n",
    "        print(\"\\n Top 5:\")\n",
    "        for score, params in sorted(results, key=lambda x: x[0], reverse=True)[0:5]:\n",
    "            print(params, score)\n",
    "        print()"
   ]
  },
  {
   "cell_type": "code",
   "execution_count": 31,
   "metadata": {},
   "outputs": [
    {
     "name": "stdout",
     "output_type": "stream",
     "text": [
      "{'max_depth': 9, 'max_features': 2, 'min_samples_split': 15, 'min_samples_leaf': 14} 0.7266404919671844\n"
     ]
    }
   ],
   "source": [
    "for score, params in sorted(results, key=lambda x: x[0], reverse=True)[0:1]:\n",
    "            print(params, score)"
   ]
  },
  {
   "cell_type": "code",
   "execution_count": 29,
   "metadata": {},
   "outputs": [
    {
     "data": {
      "text/plain": [
       "[<matplotlib.lines.Line2D at 0x12bc9d8dbc8>]"
      ]
     },
     "execution_count": 29,
     "metadata": {},
     "output_type": "execute_result"
    },
    {
     "data": {
      "image/png": "[encoded data removed]",
      "text/plain": [
       "<Figure size 432x288 with 1 Axes>"
      ]
     },
     "metadata": {
      "needs_background": "light"
     },
     "output_type": "display_data"
    }
   ],
   "source": [
    "# Zobaczmy jak wyglądają wyniki od najlepszego graficznie\n",
    "plt.plot([x for x, y in sorted(results, key=lambda x: x[0], reverse=True)])"
   ]
  },
  {
   "cell_type": "code",
   "execution_count": 30,
   "metadata": {
    "scrolled": true
   },
   "outputs": [
    {
     "data": {
      "text/plain": [
       "[<matplotlib.lines.Line2D at 0x12bcdd30948>]"
      ]
     },
     "execution_count": 30,
     "metadata": {},
     "output_type": "execute_result"
    },
    {
     "data": {
      "image/png": "[encoded data removed]",
      "text/plain": [
       "<Figure size 432x288 with 1 Axes>"
      ]
     },
     "metadata": {
      "needs_background": "light"
     },
     "output_type": "display_data"
    }
   ],
   "source": [
    "# Możemy tez zobaczyć jak z czasem poprawiał się najlepszy wynik:\n",
    "bestHistory = []\n",
    "for k in range(1,len(results)):\n",
    "    # List comprehension: dla k pierwszych wartości zwróć maximum\n",
    "    bestHistory.append(np.max([x for x, y in sorted(results[:k], key=lambda x: x[0], reverse=True)]))\n",
    "# Wykres historii\n",
    "plt.plot(bestHistory)"
   ]
  },
  {
   "cell_type": "markdown",
   "metadata": {},
   "source": [
    "Zapisuję wyniki"
   ]
  },
  {
   "cell_type": "code",
   "execution_count": 36,
   "metadata": {
    "scrolled": true
   },
   "outputs": [
    {
     "name": "stdout",
     "output_type": "stream",
     "text": [
      "0.7277456746116572\n"
     ]
    }
   ],
   "source": [
    "trainResults, testResults, predictions, indices = CVTestRFClass(n_estimators=1000, max_depth=9,\n",
    "                                                                    max_features=2,\n",
    "                                                                    min_samples_split=15, min_samples_leaf=14)\n",
    "print(np.mean(testResults))\n",
    "\n",
    "modelRF_rs = {\n",
    "    \"name\":\"RF_rs\",\n",
    "    \"description\":\"Model RF, ze zmiennymi kategorycznymi z LE\",\n",
    "    \"specification\":'n_estimators=1000, max_depth=9, max_features=2, min_samples_split=15, min_samples_leaf=14',\n",
    "    \"trainResults\":trainResults.copy(),\n",
    "    \"testResults\":testResults.copy(),\n",
    "    \"predictions\":predictions.copy(),\n",
    "    \"indices\":indices.copy(),\n",
    "}"
   ]
  },
  {
   "cell_type": "markdown",
   "metadata": {},
   "source": [
    "Taki sam wynik co iteracyjnie."
   ]
  },
  {
   "cell_type": "code",
   "execution_count": 35,
   "metadata": {},
   "outputs": [],
   "source": [
    "# Otwieramy plik do zapisu binarnego z wykorzystenim with\n",
    "with open(\"model_RF_1_ver2_rs.p\", \"wb\") as fp:\n",
    "    # Zapisujemy obiekt do wskaźnika pliku\n",
    "    pickle.dump(modelRF_rs, fp)"
   ]
  }
 ],
 "metadata": {
  "kernelspec": {
   "display_name": "Python 3",
   "language": "python",
   "name": "python3"
  },
  "language_info": {
   "codemirror_mode": {
    "name": "ipython",
    "version": 3
   },
   "file_extension": ".py",
   "mimetype": "text/x-python",
   "name": "python",
   "nbconvert_exporter": "python",
   "pygments_lexer": "ipython3",
   "version": "3.7.9"
  }
 },
 "nbformat": 4,
 "nbformat_minor": 4
}
